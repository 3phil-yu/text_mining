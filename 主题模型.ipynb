{
 "cells": [
  {
   "cell_type": "markdown",
   "metadata": {},
   "source": [
    "## 导入文件"
   ]
  },
  {
   "cell_type": "code",
   "execution_count": 1,
   "metadata": {},
   "outputs": [],
   "source": [
    "import pandas as pd\n",
    "import jieba\n",
    "import numpy as np\n",
    "import pandas as pd\n",
    "from gensim import corpora,models,similarities\n",
    "from pprint import pprint\n",
    "import time"
   ]
  },
  {
   "cell_type": "code",
   "execution_count": 3,
   "metadata": {},
   "outputs": [
    {
     "data": {
      "text/html": [
       "<div>\n",
       "<style scoped>\n",
       "    .dataframe tbody tr th:only-of-type {\n",
       "        vertical-align: middle;\n",
       "    }\n",
       "\n",
       "    .dataframe tbody tr th {\n",
       "        vertical-align: top;\n",
       "    }\n",
       "\n",
       "    .dataframe thead th {\n",
       "        text-align: right;\n",
       "    }\n",
       "</style>\n",
       "<table border=\"1\" class=\"dataframe\">\n",
       "  <thead>\n",
       "    <tr style=\"text-align: right;\">\n",
       "      <th></th>\n",
       "      <th>标题</th>\n",
       "      <th>时间</th>\n",
       "      <th>来源</th>\n",
       "      <th>内容</th>\n",
       "    </tr>\n",
       "  </thead>\n",
       "  <tbody>\n",
       "    <tr>\n",
       "      <th>0</th>\n",
       "      <td>马上评｜东北雪乡宰客商家挨罚：坑人终会坑自己</td>\n",
       "      <td>2018-01-03 17:04:00</td>\n",
       "      <td>澎湃新闻</td>\n",
       "      <td>近日，一篇关于“雪乡宰客”的文章引发网友关注。1月3日，黑龙江大海林林业地区旅游局局长刘忠才...</td>\n",
       "    </tr>\n",
       "    <tr>\n",
       "      <th>1</th>\n",
       "      <td>携程回应东北“雪乡赵家大院”酒店宰客：情况属实，已下架</td>\n",
       "      <td>2018-01-03 17:52:00</td>\n",
       "      <td>澎湃新闻</td>\n",
       "      <td>近日，关于雪乡宰客的话题格外受到关注。事件的起因是，消费者“木木”通过携程预订了名为“雪乡赵...</td>\n",
       "    </tr>\n",
       "    <tr>\n",
       "      <th>2</th>\n",
       "      <td>雪乡赵家大院经理回应“花式宰客”：给雪乡抹黑了，我不干了</td>\n",
       "      <td>2018-01-03 18:17:00</td>\n",
       "      <td>@新华网</td>\n",
       "      <td>1月3日消息，近日有网友发帖称在黑龙江雪乡旅游时遭遇\"花式宰客\"。雪乡赵家大院陈经理回应称，...</td>\n",
       "    </tr>\n",
       "    <tr>\n",
       "      <th>3</th>\n",
       "      <td>黑龙江核查处理“雪乡宰客”：涉事旅馆业主被列入“黑名单”</td>\n",
       "      <td>2018-01-04 08:28:00</td>\n",
       "      <td>王琳/中新网</td>\n",
       "      <td>中新网哈尔滨1月4日消息，迎来旅游旺季的中国雪乡，知名度与争议性结伴而来。近日，一篇题为《雪...</td>\n",
       "    </tr>\n",
       "    <tr>\n",
       "      <th>4</th>\n",
       "      <td>央视评雪乡宰客：以刮骨疗毒勇气重建，让游客安心跨过山海关</td>\n",
       "      <td>2018-01-04 20:34:00</td>\n",
       "      <td>王亚宏/央视新闻</td>\n",
       "      <td>近日，有游客在网上发帖，提出黑龙江省雪乡景区有商家宰客的行为。对此，黑龙江大海林重点国有林管...</td>\n",
       "    </tr>\n",
       "  </tbody>\n",
       "</table>\n",
       "</div>"
      ],
      "text/plain": [
       "                             标题                  时间        来源  \\\n",
       "0        马上评｜东北雪乡宰客商家挨罚：坑人终会坑自己 2018-01-03 17:04:00      澎湃新闻   \n",
       "1   携程回应东北“雪乡赵家大院”酒店宰客：情况属实，已下架 2018-01-03 17:52:00      澎湃新闻   \n",
       "2  雪乡赵家大院经理回应“花式宰客”：给雪乡抹黑了，我不干了 2018-01-03 18:17:00      @新华网   \n",
       "3  黑龙江核查处理“雪乡宰客”：涉事旅馆业主被列入“黑名单” 2018-01-04 08:28:00    王琳/中新网   \n",
       "4  央视评雪乡宰客：以刮骨疗毒勇气重建，让游客安心跨过山海关 2018-01-04 20:34:00  王亚宏/央视新闻   \n",
       "\n",
       "                                                  内容  \n",
       "0  近日，一篇关于“雪乡宰客”的文章引发网友关注。1月3日，黑龙江大海林林业地区旅游局局长刘忠才...  \n",
       "1  近日，关于雪乡宰客的话题格外受到关注。事件的起因是，消费者“木木”通过携程预订了名为“雪乡赵...  \n",
       "2  1月3日消息，近日有网友发帖称在黑龙江雪乡旅游时遭遇\"花式宰客\"。雪乡赵家大院陈经理回应称，...  \n",
       "3  中新网哈尔滨1月4日消息，迎来旅游旺季的中国雪乡，知名度与争议性结伴而来。近日，一篇题为《雪...  \n",
       "4  近日，有游客在网上发帖，提出黑龙江省雪乡景区有商家宰客的行为。对此，黑龙江大海林重点国有林管...  "
      ]
     },
     "execution_count": 3,
     "metadata": {},
     "output_type": "execute_result"
    }
   ],
   "source": [
    "# df1 = pd.read_csv(\"G:\\论文\\突发公共卫生事件中新闻演化分析\\数据\\新冠\\北京等其他地区\\北京新闻信息.csv\", encoding='utf-8')\n",
    "# df2 = pd.read_csv(\"G:\\论文\\突发公共卫生事件中新闻演化分析\\数据\\新冠\\北京等其他地区\\大连新闻信息.csv\", encoding='utf-8')\n",
    "# df3 = pd.read_csv(\"G:\\论文\\突发公共卫生事件中新闻演化分析\\数据\\新冠\\北京等其他地区\\新疆新闻信息.csv\", encoding='utf-8')\n",
    "# df=pd.concat([df1,df2,df3],axis=0)\n",
    "#df=pd.read_excel('G:\\论文\\硕士论文\\初稿\\数据\\特斯拉\\特斯拉新闻数据集_时间筛选.xlsx',sheet_name='Sheet3')\n",
    "df=pd.read_excel('G:\\论文\\硕士论文\\初稿\\数据\\雪乡\\雪乡新闻.xlsx',sheet_name='Sheet1')\n",
    "\n",
    "#C:\\Users\\93784\\Desktop\n",
    "df.head()"
   ]
  },
  {
   "cell_type": "code",
   "execution_count": null,
   "metadata": {},
   "outputs": [],
   "source": [
    "#df = pd.read_csv(\"G:\\论文\\突发公共卫生事件中新闻演化分析\\数据\\H1N1\\H1N1搜索结果.csv\", encoding='utf-8')#,names=['新闻标题','新闻事件','新闻长度']\n",
    "#df.shape\n",
    "#df.head"
   ]
  },
  {
   "cell_type": "markdown",
   "metadata": {},
   "source": [
    "## 数据筛选"
   ]
  },
  {
   "cell_type": "code",
   "execution_count": 120,
   "metadata": {},
   "outputs": [
    {
     "name": "stderr",
     "output_type": "stream",
     "text": [
      "E:\\Anaconda\\lib\\site-packages\\ipykernel\\ipkernel.py:287: DeprecationWarning: `should_run_async` will not call `transform_cell` automatically in the future. Please pass the result to `transformed_cell` argument and any exception that happen during thetransform in `preprocessing_exc_tuple` in IPython 7.17 and above.\n",
      "  and should_run_async(code)\n"
     ]
    }
   ],
   "source": [
    "# #数据长度筛选\n",
    "# df['字段1_文本'].apply(int)\n",
    "# df=df.loc[df[\"内容\"]>15,:]\n",
    "# df.shape"
   ]
  },
  {
   "cell_type": "code",
   "execution_count": 57,
   "metadata": {},
   "outputs": [
    {
     "name": "stderr",
     "output_type": "stream",
     "text": [
      "E:\\Anaconda\\lib\\site-packages\\ipykernel\\ipkernel.py:287: DeprecationWarning: `should_run_async` will not call `transform_cell` automatically in the future. Please pass the result to `transformed_cell` argument and any exception that happen during thetransform in `preprocessing_exc_tuple` in IPython 7.17 and above.\n",
      "  and should_run_async(code)\n"
     ]
    }
   ],
   "source": [
    "# #建立时间索引及数据查询\n",
    "# # df['字段10']=pd.to_datetime(df['字段10'])\n",
    "# # df_date=df.set_index('字段10')\n",
    "# # df_date.head()\n",
    "# # df_date=df.set_index('字段10')\n",
    "# # df_date=df_date.set_index(pd.to_datetime(df_date.index)#\n",
    "# df_date.head()\n",
    "# df_date.index"
   ]
  },
  {
   "cell_type": "code",
   "execution_count": 58,
   "metadata": {},
   "outputs": [
    {
     "name": "stderr",
     "output_type": "stream",
     "text": [
      "E:\\Anaconda\\lib\\site-packages\\ipykernel\\ipkernel.py:287: DeprecationWarning: `should_run_async` will not call `transform_cell` automatically in the future. Please pass the result to `transformed_cell` argument and any exception that happen during thetransform in `preprocessing_exc_tuple` in IPython 7.17 and above.\n",
      "  and should_run_async(code)\n"
     ]
    }
   ],
   "source": [
    "# df_date.index.value_counts()#显示索引日期对应报道数量"
   ]
  },
  {
   "cell_type": "markdown",
   "metadata": {},
   "source": [
    "## 分词，去除停用词"
   ]
  },
  {
   "cell_type": "code",
   "execution_count": 5,
   "metadata": {},
   "outputs": [
    {
     "data": {
      "text/plain": [
       "(23, 4)"
      ]
     },
     "execution_count": 5,
     "metadata": {},
     "output_type": "execute_result"
    }
   ],
   "source": [
    "#df=df['买家退款描述']\n",
    "df.shape"
   ]
  },
  {
   "cell_type": "code",
   "execution_count": 6,
   "metadata": {},
   "outputs": [],
   "source": [
    "def chinese_word_cut(mytext):\n",
    "    return \" \".join(jieba.cut(mytext))\n",
    "#去除停用词，如无意义的词，符号等\n",
    "def stopwordslist():\n",
    "    stopwords = [line.strip() for line in open('../话题演化/chinese_stopword.txt',encoding='UTF-8').readlines()]#chinese_stopword.txt为停用词表，可以适当改写\n",
    "    return stopwords\n",
    "# for i in test.keys():\n",
    "#     try:\n",
    "#         for line in test[i]:\n",
    "#             line.strip()\n",
    "#     except:\n",
    "#         print(i)\n",
    "#         print(line)\n",
    "# 对句子进行中文分词\n",
    "def seg_depart(sentence):\n",
    "   # 对文档中的每一行进行中文分词\n",
    "    #print(\"正在分词\")\n",
    "    sentence_depart = jieba.cut(sentence.strip())\n",
    "    # 创建一个停用词列表\n",
    "    stopwords = stopwordslist()\n",
    "    # 输出结果为outstr\n",
    "    outstr = ''\n",
    "    # 去停用词\n",
    "    for word in sentence_depart:\n",
    "        if word not in stopwords:\n",
    "            if word != '\\t':\n",
    "                outstr += word\n",
    "                outstr += \" \"\n",
    "    return outstr\n"
   ]
  },
  {
   "cell_type": "code",
   "execution_count": 7,
   "metadata": {},
   "outputs": [
    {
     "name": "stderr",
     "output_type": "stream",
     "text": [
      "Building prefix dict from the default dictionary ...\n",
      "Loading model from cache C:\\Users\\93784\\AppData\\Local\\Temp\\jieba.cache\n",
      "Loading model cost 0.868 seconds.\n",
      "Prefix dict has been built successfully.\n"
     ]
    },
    {
     "data": {
      "text/plain": [
       "0    近日 一篇 雪乡 宰客 文章 引发 网友 关注 月 日 黑龙江 大海 林 林业 地区 旅游局...\n",
       "1    近日 雪乡 宰客 话题 关注 事件 起因 消费者 木木 携程 预订 名为 雪乡 赵家 大院 ...\n",
       "2    月 日 消息 近日 网友 发帖 称 黑龙江 雪乡 旅游 时 遭遇 花式 宰客 雪乡 赵家 大...\n",
       "3    中新网 哈尔滨 月 日 消息 迎来 旅游 旺季 中国 雪乡 知名度 争议性 结伴 近日 一篇...\n",
       "4    近日 游客 网上 发帖 提出 黑龙江省 雪乡 景区 商家 宰客 对此 黑龙江 大海 林 重点...\n",
       "Name: content_cutted, dtype: object"
      ]
     },
     "execution_count": 7,
     "metadata": {},
     "output_type": "execute_result"
    }
   ],
   "source": [
    "df[\"content_cutted\"] = df[\"内容\"].apply(seg_depart)\n",
    "df.content_cutted.head()"
   ]
  },
  {
   "cell_type": "code",
   "execution_count": 12,
   "metadata": {},
   "outputs": [],
   "source": [
    "df1=df[\"content_cutted\"].to_csv(path_or_buf=\"G:\\论文\\硕士论文\\初稿\\数据\\特斯拉\\特斯拉新闻数据集时间序列_分词.csv\",encoding=\"utf_8_sig\",index=False)"
   ]
  },
  {
   "cell_type": "markdown",
   "metadata": {},
   "source": [
    "## Tf-Idf值，词分布，主题分布计算"
   ]
  },
  {
   "cell_type": "markdown",
   "metadata": {},
   "source": [
    "### Gensim"
   ]
  },
  {
   "cell_type": "code",
   "execution_count": 101,
   "metadata": {},
   "outputs": [],
   "source": [
    "def load_stopword():\n",
    "    f_stop = open('../话题演化/chinese_stopword.txt',encoding='utf-8')\n",
    "    sw = [line.strip() for line in f_stop]\n",
    "    f_stop.close()\n",
    "    return sw"
   ]
  },
  {
   "cell_type": "code",
   "execution_count": 102,
   "metadata": {},
   "outputs": [
    {
     "name": "stdout",
     "output_type": "stream",
     "text": [
      "初始化停止词列表 --\n",
      "开始读入语料数据 -- \n",
      "读入语料数据完成，用时124.426秒\n",
      "文本数目：1956个\n"
     ]
    }
   ],
   "source": [
    "print ('初始化停止词列表 --')\n",
    "t_start = time.time()\n",
    "stop_words = load_stopword()\n",
    "\n",
    "print ('开始读入语料数据 -- ')\n",
    "#f = open('22.news.dat',\"rb\")    #22.LDA_test.txt\n",
    "f = open('G:\\论文\\硕士论文\\初稿\\数据\\特斯拉\\特斯拉新闻数据集时间_分词.csv', \"rb\")#分词后数据\n",
    "texts = [[word for word in line.strip().lower().split() if word not in stop_words] for line in f]\n",
    "#pprint(texts[10,])\n",
    "# texts = [line.strip().split() for line in f]\n",
    "print ('读入语料数据完成，用时%.3f秒' % (time.time() - t_start))\n",
    "f.close()\n",
    "M = len(texts)\n",
    "print ('文本数目：%d个' % M)"
   ]
  },
  {
   "cell_type": "code",
   "execution_count": 103,
   "metadata": {},
   "outputs": [
    {
     "name": "stdout",
     "output_type": "stream",
     "text": [
      "正在建立词典 --\n",
      "正在计算文本向量 --\n",
      "正在计算文档TF-IDF --\n",
      "建立文档TF-IDF完成，用时0.649秒\n"
     ]
    }
   ],
   "source": [
    "#-*- coding: utf-8 -*-\n",
    "print ('正在建立词典 --')\n",
    "dictionary = corpora.Dictionary(texts)\n",
    "V = len(dictionary)\n",
    "print ('正在计算文本向量 --')\n",
    "corpus = [dictionary.doc2bow(text) for text in texts]\n",
    "print ('正在计算文档TF-IDF --')\n",
    "t_start = time.time()\n",
    "corpus_tfidf = models.TfidfModel(corpus)[corpus]\n",
    "\n",
    "# tf_vectorizer = CountVectorizer(strip_accents = 'unicode',\n",
    "#                                 max_features=n_features,\n",
    "#                                 stop_words='english',\n",
    "#                                 max_df = 0.5,\n",
    "#                                 min_df = 10)\n",
    "# corpus_tfidf=tf_vectorizer.fit_transform(df_date.content_cutted)\n",
    "\n",
    "#corpus_tfidf=corpus\n",
    "\n",
    "\n",
    "print ('建立文档TF-IDF完成，用时%.3f秒' % (time.time() - t_start))"
   ]
  },
  {
   "cell_type": "code",
   "execution_count": 104,
   "metadata": {},
   "outputs": [
    {
     "name": "stdout",
     "output_type": "stream",
     "text": [
      "LDA模型拟合推断 --\n",
      "LDA模型完成，训练时间为\t10.709秒\n",
      "Document-Topic:\n",
      "\n"
     ]
    },
    {
     "data": {
      "text/html": [
       "<div>\n",
       "<style scoped>\n",
       "    .dataframe tbody tr th:only-of-type {\n",
       "        vertical-align: middle;\n",
       "    }\n",
       "\n",
       "    .dataframe tbody tr th {\n",
       "        vertical-align: top;\n",
       "    }\n",
       "\n",
       "    .dataframe thead th {\n",
       "        text-align: right;\n",
       "    }\n",
       "</style>\n",
       "<table border=\"1\" class=\"dataframe\">\n",
       "  <thead>\n",
       "    <tr style=\"text-align: right;\">\n",
       "      <th></th>\n",
       "      <th>0</th>\n",
       "      <th>1</th>\n",
       "      <th>2</th>\n",
       "      <th>3</th>\n",
       "      <th>4</th>\n",
       "      <th>5</th>\n",
       "      <th>6</th>\n",
       "      <th>7</th>\n",
       "    </tr>\n",
       "  </thead>\n",
       "  <tbody>\n",
       "    <tr>\n",
       "      <th>0</th>\n",
       "      <td>(0, 0.125)</td>\n",
       "      <td>(1, 0.125)</td>\n",
       "      <td>(2, 0.125)</td>\n",
       "      <td>(3, 0.125)</td>\n",
       "      <td>(4, 0.125)</td>\n",
       "      <td>(5, 0.125)</td>\n",
       "      <td>(6, 0.125)</td>\n",
       "      <td>(7, 0.125)</td>\n",
       "    </tr>\n",
       "    <tr>\n",
       "      <th>1</th>\n",
       "      <td>(0, 0.002073953)</td>\n",
       "      <td>(1, 0.08923468)</td>\n",
       "      <td>(2, 0.002073953)</td>\n",
       "      <td>(3, 0.002073953)</td>\n",
       "      <td>(4, 0.002073953)</td>\n",
       "      <td>(5, 0.07838159)</td>\n",
       "      <td>(6, 0.8220139)</td>\n",
       "      <td>(7, 0.002073953)</td>\n",
       "    </tr>\n",
       "    <tr>\n",
       "      <th>2</th>\n",
       "      <td>(0, 0.0014358843)</td>\n",
       "      <td>(1, 0.0014358843)</td>\n",
       "      <td>(2, 0.0014358843)</td>\n",
       "      <td>(3, 0.0014358843)</td>\n",
       "      <td>(4, 0.0014358843)</td>\n",
       "      <td>(5, 0.0014358843)</td>\n",
       "      <td>(6, 0.9899488)</td>\n",
       "      <td>(7, 0.0014358843)</td>\n",
       "    </tr>\n",
       "    <tr>\n",
       "      <th>3</th>\n",
       "      <td>(0, 0.0026799534)</td>\n",
       "      <td>(1, 0.12622555)</td>\n",
       "      <td>(2, 0.0026799534)</td>\n",
       "      <td>(3, 0.0026799534)</td>\n",
       "      <td>(4, 0.0026799534)</td>\n",
       "      <td>(5, 0.0026799534)</td>\n",
       "      <td>(6, 0.6596664)</td>\n",
       "      <td>(7, 0.20070826)</td>\n",
       "    </tr>\n",
       "    <tr>\n",
       "      <th>4</th>\n",
       "      <td>(0, 0.003335623)</td>\n",
       "      <td>(1, 0.31201792)</td>\n",
       "      <td>(2, 0.003335623)</td>\n",
       "      <td>(3, 0.003335623)</td>\n",
       "      <td>(4, 0.003335623)</td>\n",
       "      <td>(5, 0.003335623)</td>\n",
       "      <td>(6, 0.66796833)</td>\n",
       "      <td>(7, 0.003335623)</td>\n",
       "    </tr>\n",
       "  </tbody>\n",
       "</table>\n",
       "</div>"
      ],
      "text/plain": [
       "                   0                  1                  2                  3  \\\n",
       "0         (0, 0.125)         (1, 0.125)         (2, 0.125)         (3, 0.125)   \n",
       "1   (0, 0.002073953)    (1, 0.08923468)   (2, 0.002073953)   (3, 0.002073953)   \n",
       "2  (0, 0.0014358843)  (1, 0.0014358843)  (2, 0.0014358843)  (3, 0.0014358843)   \n",
       "3  (0, 0.0026799534)    (1, 0.12622555)  (2, 0.0026799534)  (3, 0.0026799534)   \n",
       "4   (0, 0.003335623)    (1, 0.31201792)   (2, 0.003335623)   (3, 0.003335623)   \n",
       "\n",
       "                   4                  5                6                  7  \n",
       "0         (4, 0.125)         (5, 0.125)       (6, 0.125)         (7, 0.125)  \n",
       "1   (4, 0.002073953)    (5, 0.07838159)   (6, 0.8220139)   (7, 0.002073953)  \n",
       "2  (4, 0.0014358843)  (5, 0.0014358843)   (6, 0.9899488)  (7, 0.0014358843)  \n",
       "3  (4, 0.0026799534)  (5, 0.0026799534)   (6, 0.6596664)    (7, 0.20070826)  \n",
       "4   (4, 0.003335623)   (5, 0.003335623)  (6, 0.66796833)   (7, 0.003335623)  "
      ]
     },
     "execution_count": 104,
     "metadata": {},
     "output_type": "execute_result"
    }
   ],
   "source": [
    "print ('LDA模型拟合推断 --')\n",
    "num_topics = 8#话题个数\n",
    "t_start = time.time()\n",
    "lda = models.LdaModel(corpus_tfidf, num_topics=num_topics, id2word=dictionary,\n",
    "                            alpha=0.01, eta=0.01, minimum_probability=0.001,\n",
    "                            update_every = 1, chunksize = 100, passes = 1)\n",
    "print ('LDA模型完成，训练时间为\\t%.3f秒' % (time.time() - t_start))\n",
    "\n",
    "#所有文档的主题，每条报道的主题分布\n",
    "doc_topic = [a for a in lda[corpus_tfidf]]\n",
    "print ('Document-Topic:\\n')\n",
    "#pprint(doc_topic)\n",
    "df=pd.DataFrame(doc_topic)\n",
    "df.head()"
   ]
  },
  {
   "cell_type": "markdown",
   "metadata": {},
   "source": [
    "### 主题分布输出"
   ]
  },
  {
   "cell_type": "code",
   "execution_count": 105,
   "metadata": {},
   "outputs": [],
   "source": [
    "df.to_csv(path_or_buf=\"G:\\论文\\硕士论文\\初稿\\数据\\特斯拉\\特斯拉新闻数据集时间_主题分布.csv\",encoding=\"utf_8_sig\",index=False)#utf_8_sig"
   ]
  },
  {
   "cell_type": "code",
   "execution_count": 106,
   "metadata": {},
   "outputs": [
    {
     "name": "stdout",
     "output_type": "stream",
     "text": [
      "10个文档的主题分布：\n",
      "第654个文档的前10个主题： [6 1 7 5 4 3 2 0]\n",
      "[0.89224356 0.08803727 0.00328653 0.00328653 0.00328653 0.00328653\n",
      " 0.00328653 0.00328653]\n",
      "第790个文档的前10个主题： [6 1 7 5 4 3 2 0]\n",
      "[0.72751784 0.12964144 0.08092777 0.05531779 0.0016488  0.0016488\n",
      " 0.0016488  0.0016488 ]\n",
      "第990个文档的前10个主题： [6 1 5 7 4 3 2 0]\n",
      "[0.80146134 0.11404741 0.07542995 0.00181226 0.00181226 0.00181226\n",
      " 0.00181226 0.00181226]\n",
      "第50个文档的前10个主题： [6 1 7 5 4 3 2 0]\n",
      "[0.54987639 0.43867669 0.00190783 0.00190783 0.00190783 0.00190783\n",
      " 0.00190783 0.00190783]\n",
      "第1045个文档的前10个主题： [6 7 1 5 4 3 2 0]\n",
      "[0.72062069 0.16229177 0.1079768  0.00182215 0.00182215 0.00182215\n",
      " 0.00182215 0.00182215]\n",
      "第718个文档的前10个主题： [6 2 1 7 5 4 3 0]\n",
      "[0.75699097 0.13271098 0.10017584 0.00202444 0.00202444 0.00202444\n",
      " 0.00202444 0.00202444]\n",
      "第479个文档的前10个主题： [6 1 7 5 4 3 2 0]\n",
      "[0.84262168 0.0856728  0.05779552 0.002782   0.002782   0.002782\n",
      " 0.002782   0.002782  ]\n",
      "第646个文档的前10个主题： [6 1 5 7 4 3 2 0]\n",
      "[0.68906361 0.19848076 0.09888216 0.0027147  0.0027147  0.0027147\n",
      " 0.0027147  0.0027147 ]\n",
      "第545个文档的前10个主题： [6 5 7 4 3 2 1 0]\n",
      "[0.90445    0.07469833 0.00347529 0.00347529 0.00347529 0.00347529\n",
      " 0.00347529 0.00347529]\n",
      "第1133个文档的前10个主题： [6 1 7 5 4 3 2 0]\n",
      "[0.7346555  0.24951226 0.0026387  0.0026387  0.0026387  0.0026387\n",
      " 0.0026387  0.0026387 ]\n"
     ]
    }
   ],
   "source": [
    "#随机打印某10个文档的主题\n",
    "M = len(texts)\n",
    "num_show_topic = 10  # 每个文档显示前几个主题\n",
    "print ('10个文档的主题分布：')\n",
    "doc_topics = lda.get_document_topics(corpus_tfidf)  # 所有文档的主题分布\n",
    "idx = np.arange(M)\n",
    "np.random.shuffle(idx)\n",
    "idx = idx[:10]\n",
    "for i in idx:\n",
    "    topic = np.array(doc_topics[i])\n",
    "    topic_distribute = np.array(topic[:, 1])\n",
    "    # print topic_distribute\n",
    "    topic_idx = topic_distribute.argsort()[:-num_show_topic-1:-1]#\n",
    "    print ('第%d个文档的前%d个主题：' % (i, num_show_topic), topic_idx)#\n",
    "    print (topic_distribute[topic_idx])\n"
   ]
  },
  {
   "cell_type": "code",
   "execution_count": 107,
   "metadata": {},
   "outputs": [
    {
     "name": "stdout",
     "output_type": "stream",
     "text": [
      "每个主题的词分布：\n",
      "主题#0：\t\n",
      "词：\t\n",
      "棱镜\n",
      "客户端\n",
      "开盘\n",
      "盘中\n",
      "华为\n",
      "主题#1：\t\n",
      "词：\t\n",
      "币\n",
      "比特\n",
      "工厂\n",
      "y\n",
      "存储\n",
      "主题#2：\t\n",
      "词：\t\n",
      "货币\n",
      "下跌\n",
      "教育\n",
      "跌\n",
      "证券\n",
      "主题#3：\t\n",
      "词：\t\n",
      "家属\n",
      "股份\n",
      "净利润\n",
      "净\n",
      "wind\n",
      "主题#4：\t\n",
      "词：\t\n",
      "氪\n",
      "001\n",
      "氛围\n",
      "采集\n",
      "领克\n",
      "主题#5：\t\n",
      "词：\t\n",
      "环比\n",
      "数据安全\n",
      "下降\n",
      "一季度\n",
      "超级\n",
      "主题#6：\t\n",
      "词：\t\n",
      "销量\n",
      "model\n",
      "中国\n",
      "驾驶\n",
      "数据\n",
      "主题#7：\t\n",
      "词：\t\n",
      "提车\n",
      "律师\n",
      "查询\n",
      "地下\n",
      "本文\n"
     ]
    }
   ],
   "source": [
    "num_show_term = 5\n",
    "print ('每个主题的词分布：')#主题词分布\n",
    "for topic_id in range(num_topics):\n",
    "    print ('主题#%d：\\t' % topic_id)\n",
    "    term_distribute_all = lda.get_topic_terms(topicid=topic_id)\n",
    "    term_distribute = term_distribute_all[:num_show_term]\n",
    "    term_distribute = np.array(term_distribute)\n",
    "    term_id = term_distribute[:, 0].astype(np.int)\n",
    "    print ('词：\\t',)\n",
    "    for t in term_id:\n",
    "        print (dictionary.id2token[t],)"
   ]
  },
  {
   "cell_type": "markdown",
   "metadata": {},
   "source": [
    "### sklearn"
   ]
  },
  {
   "cell_type": "code",
   "execution_count": 8,
   "metadata": {},
   "outputs": [
    {
     "data": {
      "text/plain": [
       "0     近日 一篇 雪乡 宰客 文章 引发 网友 关注 月 日 黑龙江 大海 林 林业 地区 旅游局...\n",
       "1     近日 雪乡 宰客 话题 关注 事件 起因 消费者 木木 携程 预订 名为 雪乡 赵家 大院 ...\n",
       "2     月 日 消息 近日 网友 发帖 称 黑龙江 雪乡 旅游 时 遭遇 花式 宰客 雪乡 赵家 大...\n",
       "3     中新网 哈尔滨 月 日 消息 迎来 旅游 旺季 中国 雪乡 知名度 争议性 结伴 近日 一篇...\n",
       "4     近日 游客 网上 发帖 提出 黑龙江省 雪乡 景区 商家 宰客 对此 黑龙江 大海 林 重点...\n",
       "5     月 黑龙江 雪乡 家庭旅馆 坐地 起价 消息 原本 刚刚 旺季 雪乡 推上 风口浪尖 一时间...\n",
       "6     月 日 上午 黑龙江省政府 电视电话会议 部署 冬季 旅游 市场 综合 监管 工作 文明 旅...\n",
       "7     旅游 商家 游客 宰 影响 游客 旅游 体验 最终 游客 用脚 投票 商家 受害者 解决 雪...\n",
       "8     近日 雪乡 雪 掩盖 不掉 黑 人心 雪 乡 帖 文 引发 网友 关注 记者 日 从雪乡 景...\n",
       "9     说起 雪乡 想起 一档 亲子 综艺节目 里 萌娃帅 爸 雪地 里 玩耍 情景 成都 下雪 冰...\n",
       "10    两周 哈尔滨 雪乡 推到 风口浪尖 去年 12 月 29 日 网友 一木行 发文 称 元旦 ...\n",
       "11    封面 新闻 月 12 日 消息 当日 媒体报道 赵家 大院 拆 旧 招牌 悄悄 接客 晚 住...\n",
       "12    中国 之声 新闻 晚 高峰 报道 半个 月 前 游客 微信 平台 发文 称 雪乡 雪 掩盖 ...\n",
       "13    近日 网络 曝光 雪乡 导游 车上 强售 套票 事件 国家旅游局 高度重视 责成 黑龙江省 ...\n",
       "14    月 14 日 网络 曝光 一段 视频 疑似 雪乡 女 导游 游客 购买 1680 元 游乐 ...\n",
       "15    雪乡 冬天 难过 旅游胜地 连续 发生 宰客 现象 处于 舆论 风口浪尖 媒体 日前 调查 ...\n",
       "16    近日 一段 雪乡 女 导游 强迫 游客 购买 1680 元 游乐 项目 套票 视频 网上 引...\n",
       "17    雪乡 一年 营业 三个 月 九个 月 磨刀 三个 月 宰羊 羊 羊 近日 曝光 一段 视频 ...\n",
       "18    新华社 哈尔滨 月 17 日电 近日 游客 吐 槽 著名 东北 冰雪 景区 雪乡 推向 风口...\n",
       "19    月 16 日 上午 黑龙江省 重点 国有 林区 深化改革 作风 整顿 推进 会议 哈尔滨 会...\n",
       "20    中新网 月 11 日电 国家旅游局 网站 消息 2017 年 全国 旅游 市场秩序 整治 四...\n",
       "21    人民日报 客户端 11 月 26 日 消息 近日 媒体 刊文 指出 黑龙江 网红 景点 雪乡...\n",
       "22    发生 事 雪乡 承诺 宰客 媒体 贴出 一幅 雪乡 景区 酒店 明码标价 公示 表 图片 显...\n",
       "Name: content_cutted, dtype: object"
      ]
     },
     "execution_count": 8,
     "metadata": {},
     "output_type": "execute_result"
    }
   ],
   "source": [
    "df[\"content_cutted\"]"
   ]
  },
  {
   "cell_type": "code",
   "execution_count": 9,
   "metadata": {},
   "outputs": [
    {
     "data": {
      "text/plain": [
       "<23x311 sparse matrix of type '<class 'numpy.int64'>'\n",
       "\twith 1061 stored elements in Compressed Sparse Row format>"
      ]
     },
     "execution_count": 9,
     "metadata": {},
     "output_type": "execute_result"
    }
   ],
   "source": [
    "from sklearn.feature_extraction.text import TfidfVectorizer, CountVectorizer\n",
    "n_features = 1000\n",
    "\n",
    "tf_vectorizer = CountVectorizer(strip_accents = 'unicode',\n",
    "                                max_features=n_features,\n",
    "                                stop_words='english',\n",
    "                                max_df = 0.8,\n",
    "                                min_df = 0.05)#CountVectorizer统计词频\n",
    "tf = tf_vectorizer.fit_transform(df.content_cutted)\n",
    "tf\n"
   ]
  },
  {
   "cell_type": "code",
   "execution_count": 10,
   "metadata": {},
   "outputs": [
    {
     "data": {
      "text/plain": [
       "LatentDirichletAllocation()"
      ]
     },
     "execution_count": 10,
     "metadata": {},
     "output_type": "execute_result"
    }
   ],
   "source": [
    "from sklearn.decomposition import LatentDirichletAllocation\n",
    "n_topics = 3\n",
    "lda = LatentDirichletAllocation(#n_topics=8, max_iter=50,\n",
    "                                #learning_method='online',\n",
    "                                #learning_offset=50.,\n",
    "                                )#random_state=0\n",
    "lda.fit(tf)"
   ]
  },
  {
   "cell_type": "code",
   "execution_count": 11,
   "metadata": {},
   "outputs": [
    {
     "name": "stdout",
     "output_type": "stream",
     "text": [
      "Topic #0:\n",
      "大院 赵家 游客 旅游 店家 欺诈 宰客 东北 黑龙江 价格\n",
      "Topic #1:\n",
      "游客 景区 一年 网友 宰客 营业 消费 地方 宰羊 中国\n",
      "Topic #2:\n",
      "旅游 部门 时间 游客 调查 三个 宰羊 涉事 责成 内容\n",
      "Topic #3:\n",
      "提出 近日 消息 宰客 网上 黑龙江 记者 游客 景区 旺季\n",
      "Topic #4:\n",
      "项目 导游 自费 三个 视频 购买 两天 消费 宰羊 强迫\n",
      "Topic #5:\n",
      "赵家 大院 招牌 林场 记者 客栈 网友 哈尔滨 威虎 宰客\n",
      "Topic #6:\n",
      "旅游 整治 市场秩序 全国 处罚 企业 综合 国家旅游局 市场 专项\n",
      "Topic #7:\n",
      "国有 重点 管理局 旅游 工作 社会 景区 大海 管理 履行\n",
      "Topic #8:\n",
      "旅游 旅行社 涉事 国家旅游局 导游 黑龙江省 主管部门 旅游委 监管 依法\n",
      "Topic #9:\n",
      "旅游 市场 游客 宰客 景区 导游 监管 记者 价格 部门\n",
      "\n"
     ]
    }
   ],
   "source": [
    "def print_top_words(model, feature_names, n_top_words):\n",
    "    for topic_idx, topic in enumerate(model.components_):\n",
    "        print(\"Topic #%d:\" % topic_idx)\n",
    "        print(\" \".join([feature_names[i]\n",
    "                        for i in topic.argsort()[:-n_top_words - 1:-1]]))\n",
    "    print()\n",
    "\n",
    "n_top_words = 10\n",
    "\n",
    "tf_feature_names = tf_vectorizer.get_feature_names()\n",
    "print_top_words(lda, tf_feature_names, n_top_words)"
   ]
  },
  {
   "cell_type": "code",
   "execution_count": 118,
   "metadata": {},
   "outputs": [
    {
     "data": {
      "text/plain": [
       "array([[9.43653518e-04, 9.43552266e-04, 9.43582312e-04, ...,\n",
       "        9.43696267e-04, 9.43606877e-04, 9.43508789e-04],\n",
       "       [7.30161485e-04, 7.30069879e-04, 7.30123176e-04, ...,\n",
       "        7.30012840e-04, 7.30050841e-04, 7.30018735e-04],\n",
       "       [3.76222351e-01, 3.66385512e-04, 1.19849451e-01, ...,\n",
       "        3.66398677e-04, 3.66396918e-04, 3.66425959e-04],\n",
       "       ...,\n",
       "       [8.54869702e-04, 8.54759007e-04, 9.31566085e-01, ...,\n",
       "        8.54891000e-04, 8.54864062e-04, 8.54940235e-04],\n",
       "       [1.19057233e-03, 1.19058135e-03, 1.19071849e-03, ...,\n",
       "        9.89283765e-01, 1.19073507e-03, 1.19072490e-03],\n",
       "       [2.00069224e-03, 2.00029803e-03, 2.00068294e-03, ...,\n",
       "        2.00060802e-03, 4.40829973e-01, 2.53357588e-01]])"
      ]
     },
     "execution_count": 118,
     "metadata": {},
     "output_type": "execute_result"
    }
   ],
   "source": [
    "doc_topic_dist = lda.transform(tf)\n",
    "doc_topic_dist"
   ]
  },
  {
   "cell_type": "code",
   "execution_count": 135,
   "metadata": {},
   "outputs": [
    {
     "name": "stdout",
     "output_type": "stream",
     "text": [
      "Document-Topic:\n",
      "\n"
     ]
    }
   ],
   "source": [
    "#所有文档的主题，每条报道的主题分布\n",
    "doc_topic = [a for a in doc_topic_dist]\n",
    "print ('Document-Topic:\\n')\n",
    "#pprint(doc_topic)\n",
    "df1=pd.DataFrame(doc_topic)\n",
    "df1.head()\n",
    "df1.to_csv(path_or_buf=\"G:\\论文\\硕士论文\\初稿\\数据\\特斯拉\\特斯拉_主题分布_sklearn.csv\",encoding=\"utf_8_sig\",index=False)#utf_8_sig"
   ]
  },
  {
   "cell_type": "code",
   "execution_count": null,
   "metadata": {},
   "outputs": [],
   "source": []
  },
  {
   "cell_type": "code",
   "execution_count": null,
   "metadata": {},
   "outputs": [],
   "source": [
    "from sklearn.decomposition import LatentDirichletAllocation\n",
    "for i in range(20):\n",
    "    #n_topics = i\n",
    "    lda = LatentDirichletAllocation( max_iter=50,\n",
    "                                learning_method='online',\n",
    "                                learning_offset=50,random_state=0\n",
    "                                )\n",
    "    lda.fit(tf)\n",
    "    print(i,lda.perplexity(tf))\n",
    "#通过调用lda.perplexity(X)函数，可以得知当前训练的perplexity，sklearn中对perplexity的定义为exp(-1. * log-likelihood per word)"
   ]
  },
  {
   "cell_type": "code",
   "execution_count": 47,
   "metadata": {},
   "outputs": [
    {
     "ename": "AttributeError",
     "evalue": "'LatentDirichletAllocation' object has no attribute 'get_feature_names'",
     "output_type": "error",
     "traceback": [
      "\u001b[1;31m---------------------------------------------------------------------------\u001b[0m",
      "\u001b[1;31mAttributeError\u001b[0m                            Traceback (most recent call last)",
      "\u001b[1;32m<ipython-input-47-589d5d5d9f7b>\u001b[0m in \u001b[0;36m<module>\u001b[1;34m\u001b[0m\n\u001b[1;32m----> 1\u001b[1;33m \u001b[0mtopic_word\u001b[0m \u001b[1;33m=\u001b[0m \u001b[0mlda\u001b[0m\u001b[1;33m.\u001b[0m\u001b[0mget_feature_names\u001b[0m\u001b[1;33m(\u001b[0m\u001b[1;33m)\u001b[0m\u001b[1;33m\u001b[0m\u001b[1;33m\u001b[0m\u001b[0m\n\u001b[0m",
      "\u001b[1;31mAttributeError\u001b[0m: 'LatentDirichletAllocation' object has no attribute 'get_feature_names'"
     ]
    }
   ],
   "source": [
    "topic_word = lda.get_feature_names()\n"
   ]
  },
  {
   "cell_type": "markdown",
   "metadata": {},
   "source": [
    "## 可视化"
   ]
  },
  {
   "cell_type": "code",
   "execution_count": 124,
   "metadata": {},
   "outputs": [
    {
     "name": "stderr",
     "output_type": "stream",
     "text": [
      "E:\\Anaconda\\lib\\site-packages\\ipykernel\\ipkernel.py:287: DeprecationWarning: `should_run_async` will not call `transform_cell` automatically in the future. Please pass the result to `transformed_cell` argument and any exception that happen during thetransform in `preprocessing_exc_tuple` in IPython 7.17 and above.\n",
      "  and should_run_async(code)\n"
     ]
    },
    {
     "data": {
      "text/html": [
       "<div>\n",
       "<style scoped>\n",
       "    .dataframe tbody tr th:only-of-type {\n",
       "        vertical-align: middle;\n",
       "    }\n",
       "\n",
       "    .dataframe tbody tr th {\n",
       "        vertical-align: top;\n",
       "    }\n",
       "\n",
       "    .dataframe thead th {\n",
       "        text-align: right;\n",
       "    }\n",
       "</style>\n",
       "<table border=\"1\" class=\"dataframe\">\n",
       "  <thead>\n",
       "    <tr style=\"text-align: right;\">\n",
       "      <th></th>\n",
       "      <th>新闻内容</th>\n",
       "      <th>content_cutted</th>\n",
       "    </tr>\n",
       "  </thead>\n",
       "  <tbody>\n",
       "    <tr>\n",
       "      <th>0</th>\n",
       "      <td>据美国媒体援引熟悉内情消息人士的话报道，中国反垄断主管部门计划对阿里巴巴处 以国家有公司以来...</td>\n",
       "      <td>美国 媒体 援引 熟悉 内情 消息人士 报道 中国 反垄断 主管部门 计划 阿里巴巴 处  ...</td>\n",
       "    </tr>\n",
       "    <tr>\n",
       "      <th>1</th>\n",
       "      <td>圈外的朋友可能还不太了解情况，我来简单介绍一下事情来龙去脉： 2017年，阿里巴巴斥资177...</td>\n",
       "      <td>圈外 朋友 太 情况 我来 简单 介绍 事情 来龙去脉   2017 年 阿里巴巴 斥资 1...</td>\n",
       "    </tr>\n",
       "    <tr>\n",
       "      <th>2</th>\n",
       "      <td>罚款年收入4%，阿里的靴子是否落地？ 昨日，阿里巴巴终于被市场监管总局开罚单了——182.2...</td>\n",
       "      <td>罚款 年收入 4% 阿里 靴子 落地   昨日 阿里巴巴 终于 市场监管 总局 开罚单 18...</td>\n",
       "    </tr>\n",
       "    <tr>\n",
       "      <th>3</th>\n",
       "      <td>马云已经70多天没出现在公众面前了。 (Reuters: Valery Sharifulin...</td>\n",
       "      <td>马云 70 多天 公众 面前   Reuters   Valery   Sharifulin...</td>\n",
       "    </tr>\n",
       "    <tr>\n",
       "      <th>4</th>\n",
       "      <td>“高科技公司由于拥有开拓市场的能力而自负了多年。当政府采取与这些公司给 市场和整个社会带来的...</td>\n",
       "      <td>高科技 公司 拥有 开拓市场 能力 自负 多年 政府 公司   市场 社会 带来 风险 相称...</td>\n",
       "    </tr>\n",
       "  </tbody>\n",
       "</table>\n",
       "</div>"
      ],
      "text/plain": [
       "                                                新闻内容  \\\n",
       "0  据美国媒体援引熟悉内情消息人士的话报道，中国反垄断主管部门计划对阿里巴巴处 以国家有公司以来...   \n",
       "1  圈外的朋友可能还不太了解情况，我来简单介绍一下事情来龙去脉： 2017年，阿里巴巴斥资177...   \n",
       "2  罚款年收入4%，阿里的靴子是否落地？ 昨日，阿里巴巴终于被市场监管总局开罚单了——182.2...   \n",
       "3  马云已经70多天没出现在公众面前了。 (Reuters: Valery Sharifulin...   \n",
       "4  “高科技公司由于拥有开拓市场的能力而自负了多年。当政府采取与这些公司给 市场和整个社会带来的...   \n",
       "\n",
       "                                      content_cutted  \n",
       "0  美国 媒体 援引 熟悉 内情 消息人士 报道 中国 反垄断 主管部门 计划 阿里巴巴 处  ...  \n",
       "1  圈外 朋友 太 情况 我来 简单 介绍 事情 来龙去脉   2017 年 阿里巴巴 斥资 1...  \n",
       "2  罚款 年收入 4% 阿里 靴子 落地   昨日 阿里巴巴 终于 市场监管 总局 开罚单 18...  \n",
       "3  马云 70 多天 公众 面前   Reuters   Valery   Sharifulin...  \n",
       "4  高科技 公司 拥有 开拓市场 能力 自负 多年 政府 公司   市场 社会 带来 风险 相称...  "
      ]
     },
     "execution_count": 124,
     "metadata": {},
     "output_type": "execute_result"
    }
   ],
   "source": [
    "df.head()"
   ]
  },
  {
   "cell_type": "code",
   "execution_count": 125,
   "metadata": {},
   "outputs": [
    {
     "name": "stderr",
     "output_type": "stream",
     "text": [
      "E:\\Anaconda\\lib\\site-packages\\ipykernel\\ipkernel.py:287: DeprecationWarning: `should_run_async` will not call `transform_cell` automatically in the future. Please pass the result to `transformed_cell` argument and any exception that happen during thetransform in `preprocessing_exc_tuple` in IPython 7.17 and above.\n",
      "  and should_run_async(code)\n"
     ]
    }
   ],
   "source": [
    "corpus=df[\"content_cutted\"]"
   ]
  },
  {
   "cell_type": "code",
   "execution_count": 126,
   "metadata": {},
   "outputs": [
    {
     "name": "stderr",
     "output_type": "stream",
     "text": [
      "E:\\Anaconda\\lib\\site-packages\\ipykernel\\ipkernel.py:287: DeprecationWarning: `should_run_async` will not call `transform_cell` automatically in the future. Please pass the result to `transformed_cell` argument and any exception that happen during thetransform in `preprocessing_exc_tuple` in IPython 7.17 and above.\n",
      "  and should_run_async(code)\n"
     ]
    },
    {
     "data": {
      "text/plain": [
       "0    美国 媒体 援引 熟悉 内情 消息人士 报道 中国 反垄断 主管部门 计划 阿里巴巴 处  ...\n",
       "1    圈外 朋友 太 情况 我来 简单 介绍 事情 来龙去脉   2017 年 阿里巴巴 斥资 1...\n",
       "2    罚款 年收入 4% 阿里 靴子 落地   昨日 阿里巴巴 终于 市场监管 总局 开罚单 18...\n",
       "3    马云 70 多天 公众 面前   Reuters   Valery   Sharifulin...\n",
       "4    高科技 公司 拥有 开拓市场 能力 自负 多年 政府 公司   市场 社会 带来 风险 相称...\n",
       "Name: content_cutted, dtype: object"
      ]
     },
     "execution_count": 126,
     "metadata": {},
     "output_type": "execute_result"
    }
   ],
   "source": [
    "corpus.head()"
   ]
  },
  {
   "cell_type": "code",
   "execution_count": 127,
   "metadata": {},
   "outputs": [
    {
     "name": "stderr",
     "output_type": "stream",
     "text": [
      "E:\\Anaconda\\lib\\site-packages\\ipykernel\\ipkernel.py:287: DeprecationWarning: `should_run_async` will not call `transform_cell` automatically in the future. Please pass the result to `transformed_cell` argument and any exception that happen during thetransform in `preprocessing_exc_tuple` in IPython 7.17 and above.\n",
      "  and should_run_async(code)\n"
     ]
    },
    {
     "data": {
      "text/plain": [
       "LatentDirichletAllocation(n_components=5, random_state=888)"
      ]
     },
     "execution_count": 127,
     "metadata": {},
     "output_type": "execute_result"
    }
   ],
   "source": [
    "import pyLDAvis\n",
    "import pyLDAvis.sklearn\n",
    "from sklearn.feature_extraction.text import CountVectorizer\n",
    "from sklearn.decomposition import LatentDirichletAllocation\n",
    "\n",
    "vectorizer = CountVectorizer()\n",
    "doc_term_matrix = vectorizer.fit_transform(corpus)\n",
    "lda_model = LatentDirichletAllocation(n_components=5, random_state=888)\n",
    "lda_model.fit(doc_term_matrix)"
   ]
  },
  {
   "cell_type": "code",
   "execution_count": 128,
   "metadata": {},
   "outputs": [
    {
     "name": "stderr",
     "output_type": "stream",
     "text": [
      "E:\\Anaconda\\lib\\site-packages\\ipykernel\\ipkernel.py:287: DeprecationWarning: `should_run_async` will not call `transform_cell` automatically in the future. Please pass the result to `transformed_cell` argument and any exception that happen during thetransform in `preprocessing_exc_tuple` in IPython 7.17 and above.\n",
      "  and should_run_async(code)\n"
     ]
    },
    {
     "data": {
      "text/html": [
       "\n",
       "<link rel=\"stylesheet\" type=\"text/css\" href=\"https://cdn.rawgit.com/bmabey/pyLDAvis/files/ldavis.v1.0.0.css\">\n",
       "\n",
       "\n",
       "<div id=\"ldavis_el1190424369309267927997943113\"></div>\n",
       "<script type=\"text/javascript\">\n",
       "\n",
       "var ldavis_el1190424369309267927997943113_data = {\"mdsDat\": {\"x\": [0.06661680936763814, -0.1325042566921133, 0.05181870861714734, 0.03521866828161324, -0.02114992957428551], \"y\": [-0.11733190521767835, -0.017921629729175395, 0.04456728541530807, 0.08959196685568883, 0.001094282675856834], \"topics\": [1, 2, 3, 4, 5], \"cluster\": [1, 1, 1, 1, 1], \"Freq\": [39.21794449132931, 26.95519569076082, 14.285785633168471, 12.702392873783594, 6.838681310957797]}, \"tinfo\": {\"Term\": [\"\\u5fae\\u8f6f\", \"\\u9a6c\\u4e91\", \"\\u963f\\u91cc\\u5df4\\u5df4\", \"\\u8682\\u8681\", \"\\u4f18\\u9009\", \"\\u91d1\\u670d\", \"\\u4e2d\\u56fd\", \"windows\", \"\\u53cd\\u5784\\u65ad\", \"\\u521b\\u65b0\", \"\\u5e73\\u53f0\", \"\\u96c6\\u56e2\", \"\\u521b\\u4e1a\", \"\\u5de8\\u5934\", \"\\u516c\\u53f8\", \"\\u56fd\\u5bb6\", \"\\u6210\\u7acb\", \"\\u4eac\\u4e1c\", \"\\u7f8e\\u56e2\", \"\\u83dc\\u573a\", \"\\u4e00\\u70b9\", \"11\", \"\\u7f51\\u7edc\", \"\\u6dd8\\u5b9d\", \"\\u8d44\\u672c\", \"\\u8c03\\u67e5\", \"\\u9ad8\\u79d1\\u6280\", \"\\u591a\\u5929\", \"70\", \"\\u8d2d\\u7269\", \"\\u9ad8\\u79d1\\u6280\", \"ie\", \"\\u82f9\\u679c\", \"\\u7ed3\\u675f\", \"\\u653f\\u5e9c\", \"facebook\", \"\\u6d4f\\u89c8\\u5668\", \"\\u4e9a\\u9a6c\\u900a\", \"\\u8c37\\u6b4c\", \"12\", \"\\u6f14\\u8bb2\", \"\\u53cd\\u5784\\u65ad\\u6cd5\", \"\\u683c\\u5170\\u4ed5\", \"\\u7ba1\\u5236\", \"\\u6346\\u7ed1\", \"\\u56fd\\u9645\", \"\\u4ea7\\u4e1a\", \"\\u5f53\\u5934\\u4e00\\u68d2\", \"\\u8054\\u5408\", \"\\u5236\\u5b9a\", \"\\u89c4\\u5219\", \"\\u539a\\u79ef\\u8584\\u53d1\", \"1996\", \"\\u524d\\u594f\", \"\\u5927\\u578b\", \"\\u56fd\\u5185\", \"\\u4e0a\\u6d77\", \"\\u8bba\\u575b\", \"\\u53f2\\u664b\\u5ddd\", \"\\u5916\\u6ee9\", \"\\u9ebb\\u70e6\", \"\\u5229\\u7528\", \"\\u8c03\\u67e5\", \"\\u4e92\\u8054\\u7f51\", \"\\u56fd\\u5bb6\", \"\\u5e73\\u53f0\", \"\\u516c\\u53f8\", \"\\u79d1\\u6280\", \"1998\", \"\\u7f8e\\u56fd\\u53f8\\u6cd5\\u90e8\", \"\\u9884\\u88c5\", \"\\u4e2d\\u56fd\", \"\\u5e02\\u573a\", \"\\u5de8\\u5934\", \"\\u5784\\u65ad\", \"\\u6b63\\u5f0f\", \"\\u7f5a\\u6b3e\", \"\\u7ecf\\u6d4e\", \"\\u53cd\\u5784\\u65ad\", \"\\u5fae\\u8f6f\", \"\\u76d1\\u7ba1\", \"\\u963f\\u91cc\\u5df4\\u5df4\", \"2020\", \"\\u521b\\u65b0\", \"\\u9a6c\\u4e91\", \"\\u521b\\u4e1a\", \"\\u4ebf\\u5143\", \"\\u540e\\u679c\", \"\\u5229\\u6da6\", \"\\u589e\\u957f\", \"\\u540c\\u6bd4\", \"\\u5927\\u89c4\\u6a21\", \"\\u8bb2\\u8bdd\", \"\\u6d88\\u5931\", \"\\u7ba1\\u7406\", \"\\u4e00\\u79cd\", \"\\u7cfb\\u7edf\\u6027\", \"\\u516c\\u5e73\", \"daily\", \"\\u6301\\u6709\", \"journal\", \"\\u521b\\u65b0\", \"11\", \"\\u89c4\\u6a21\", \"31\", \"\\u4fe1\\u7528\", \"\\u63a8\\u5230\", \"\\u73b0\\u8eab\", \"\\u6240\\u53d7\", \"\\u91d1\\u8d44\", \"\\u91d1\\u878d\\u4f53\\u5236\", \"\\u62ff\\u5230\", \"\\u89c6\\u91ce\", \"\\u62a8\\u51fb\", \"\\u76d1\\u7ba1\\u90e8\\u95e8\", \"\\u98ce\\u9669\", \"\\u6709\\u53f2\\u4ee5\\u6765\", \"\\u65e5\\u665a\", \"\\u65e0\\u98ce\\u9669\", \"\\u67d0\\u79cd\\u7a0b\\u5ea6\", \"\\u4e4b\\u9645\", \"\\u6708\\u521d\", \"\\u4f20\\u8a00\", \"\\u4ee3\\u8868\", \"\\u6539\\u6389\", \"\\u6536\\u5165\", \"business\", \"\\u597d\\u5947\", \"\\u88c1\\u5224\", \"\\u53e6\\u4e00\\u540d\", \"\\u5f53\\u94fa\", \"\\u8bc1\\u5238\\u5316\", \"\\u521b\\u9020\", \"\\u91d1\\u878d\", \"\\u4f01\\u4e1a\\u5bb6\", \"\\u63d0\\u9192\", \"\\u9a6c\\u4e91\", \"\\u5927\\u4f6c\", \"\\u53f2\\u9e64\\u51cc\", \"\\u5f88\\u5927\", \"\\u4e00\\u4e0b\\u5b50\", \"\\u91d1\\u670d\", \"\\u535a\\u6ee1\", \"\\u8682\\u8681\", \"\\u7e41\\u591a\", \"\\u529e\\u6cd5\", \"\\u906d\\u9047\", \"\\u8499\\u7eb3\\u58eb\", \"\\u627f\\u62c5\", \"\\u627c\\u6740\", \"\\u963f\\u91cc\\u5df4\\u5df4\", \"\\u4f01\\u4e1a\", \"\\u5546\\u4e1a\", \"\\u601d\\u60f3\", \"heroes\", \"\\u6536\\u8d2d\", \"\\u5b9e\\u9645\\u4e0a\", \"\\u539f\\u56e0\", \"\\u4e2d\\u56fd\", \"\\u5de8\\u5934\", \"\\u5784\\u65ad\", \"\\u516c\\u53f8\", \"\\u8d44\\u672c\", \"2020\", \"\\u76d1\\u7ba1\", \"\\u7f5a\\u5355\", \"\\u7ade\\u4e89\", \"\\u5e26\\u6765\", \"\\u591a\\u5e74\", \"\\u963f\\u91cc\", \"\\u52df\\u80a1\", \"\\u4f9d\\u7136\", \"\\u9009\\u62e9\", \"\\u7b7e\\u8ba2\", \"\\u7c7b\\u4f3c\", \"\\u8ba4\\u53ef\", \"1975\", \"\\u5236\\u9020\\u5546\", \"android\", \"\\u4ea4\\u6613\", \"\\u5fae\\u8f6f\\u516c\\u53f8\", \"\\u7535\\u8111\", \"\\u64cd\\u4f5c\\u7cfb\\u7edf\", \"90\", \"\\u6e05\\u4ed3\", \"\\u641c\\u7d22\\u5f15\\u64ce\", \"fear\", \"\\u8ba8\\u8bba\", \"uncertainty\", \"fud\", \"\\u6307\\u63a7\", \"hk\", \"\\u51cf\\u6301\", \"\\u6362\\u6210\", \"msdos\", \"sogo\", \"\\u62dc\\u8bbf\", \"\\u641c\\u72d7\", \"\\u63d0\\u8d77\", \"doubt\", \"00700\", \"\\u6279\\u51c6\", \"\\u4fee\\u6539\", \"\\u8bf8\\u591a\", \"\\u4e07\\u80a1\", \"caldera\", \"\\u6807\\u5fd7\", \"\\u6297\\u8bae\", \"\\u6297\\u8861\", \"\\u8d4b\\u4e88\", \"\\u8d54\\u507f\\u8d39\", \"\\u65b0\\u8fdb\", \"\\u52a8\\u529b\", \"\\u653e\\u884c\", \"\\u5170\\u5fb7\", \"\\u8d77\\u8bc9\", \"\\u5fae\\u8f6f\", \"\\u827e\\u4f26\", \"\\u6ce2\\u52a8\", \"\\u80a1\\u7968\", \"\\u7edf\\u8ba1\", \"\\u8fbe\\u5229\", \"\\u8f6f\\u4ef6\", \"\\u610f\\u5473\\u7740\", \"\\u53cd\\u6258\\u62c9\\u65af\", \"\\u8df3\\u52a8\", \"\\u8def\\u900f\\u793e\", \"\\u603b\\u7edf\", \"\\u8fd0\\u884c\", \"\\u6050\\u60e7\", \"\\u5185\\u5730\", \"windows\", \"\\u6b27\\u76df\", \"\\u4eba\\u58eb\", \"\\u501f\\u52a9\", \"\\u8fde\\u6865\", \"consent\", \"\\u8bef\\u5bfc\", \"\\u6d88\\u606f\", \"\\u6b21\\u5e74\", \"\\u684c\\u9762\", \"\\u8d44\\u4ea7\", \"\\u7cfb\\u7edf\", \"\\u4e24\\u4efb\", \"\\u751f\\u6001\", \"\\u77e5\\u60c5\", \"\\u4e4b\\u5916\", \"\\u751f\\u4ea7\\u5546\", \"\\u4e3b\\u6d41\", \"\\u79c1\\u6709\\u5316\", \"\\u4e0d\\u53ef\\u52a8\\u6447\", \"\\u8bc9\\u8bbc\", \"\\u516c\\u53f8\", \"\\u76d1\\u7ba1\", \"\\u7ade\\u4e89\", \"\\u5730\\u4f4d\", \"\\u5904\\u7f5a\", \"\\u8d44\\u672c\", \"\\u6e05\\u4e00\\u8272\", \"\\u963f\\u91cc\\u5df4\\u5df4\", \"\\u4e2d\\u56fd\", \"\\u4ebf\\u7f8e\\u5143\", \"\\u7f5a\\u5355\", \"\\u8ba1\\u5212\", \"\\u4f18\\u9009\", \"\\u83dc\\u573a\", \"\\u4e00\\u70b9\", \"\\u65e0\\u6cd5\\u65e0\\u5929\", \"\\u56e2\\u8d2d\", \"\\u5c0f\\u8d29\", \"\\u5f00\\u5e97\", \"\\u793e\\u533a\", \"\\u4e00\\u4e2a\\u591a\\u6708\", \"\\u5c0f\\u644a\", \"\\u4e2d\\u592e\\u653f\\u6cbb\\u5c40\", \"\\u4e2a\\u4f53\\u6237\", \"\\u4eca\\u65e5\", \"\\u6a59\\u5fc3\", \"\\u4eac\\u4e1c\", \"\\u7f8e\\u56e2\", \"\\u6210\\u7acb\", \"\\u6328\\u677f\\u5b50\", \"\\u4e0b\\u573a\", \"\\u62ff\\u4e0b\", \"\\u6307\\u5357\", \"\\u81ea\\u884c\\u8f66\", \"\\u6323\\u5feb\", \"\\u63a5\\u5165\", \"\\u4e0a\\u9650\", \"\\u4e0a\\u7ebf\", \"\\u6324\\u57ae\", \"\\u4e00\\u7ea7\", \"\\u7f9e\\u803b\", \"\\u62db\\u67b6\\u4e4b\\u529b\", \"\\u817e\\u8baf\", \"\\u7b2c\\u4e00\", \"\\u4e0d\\u8bbe\", \"\\u63a5\\u8fde\", \"\\u63a8\\u51fa\", \"\\u4e0d\\u8d39\\u5439\\u7070\\u4e4b\\u529b\", \"\\u4ef7\\u683c\", \"\\u4e0d\\u60dc\\u4ee3\\u4ef7\", \"\\u8dfa\\u811a\", \"\\u7b2c\\u4e00\\u540d\", \"\\u6269\\u5f20\", \"\\u611f\\u5230\", \"\\u6240\\u4f5c\\u6240\\u4e3a\", \"\\u4e70\\u83dc\", \"\\u51e0\\u4e2a\", \"\\u65e0\\u5e8f\", \"\\u60f3\\u7740\", \"\\u8fd9\\u4e00\\u4ed7\", \"64k\", \"\\u7b2c\\u4e00\\u6761\", \"\\u540c\\u6708\", \"\\u6295\\u5165\", \"\\u4fee\\u6cd5\", \"\\u53d1\\u5e03\", \"\\u4fe1\\u53f7\", \"\\u53cd\\u5784\\u65ad\", \"\\u6cc4\\u6d2a\", \"\\u53d1\\u58f0\", \"\\u541e\\u5e76\", \"10\", \"\\u5de8\\u5934\", \"\\u83dc\\u5e02\\u573a\", \"\\u65f6\\u95f4\", \"\\u653e\\u5927\", \"\\u8d44\\u672c\", \"\\u6ca6\\u4e3a\", \"\\u56fd\\u5bb6\", \"11\", \"\\u7ecf\\u6d4e\", \"\\u6708\\u5e95\", \"\\u4e00\\u54e5\", \"\\u4e2d\\u56fd\", \"\\u5e73\\u53f0\", \"\\u5e02\\u573a\", \"\\u4e92\\u8054\\u7f51\", \"70\", \"\\u591a\\u5929\", \"\\u5929\\u732b\", \"\\u8d2d\\u7269\", \"\\u96c6\\u56e2\", \"\\u4e16\\u4e0a\", \"\\u8bf8\\u4e8b\", \"valery\", \"tass\", \"\\u9732\\u9762\", \"sharifulin\", \"\\u4e0d\\u987a\", \"\\u63a7\\u5236\", \"\\u53bb\\u5e74\\u5e95\", \"370\", \"\\u521b\\u5efa\", \"\\u672a\\u516c\\u5f00\", \"\\u79f0\\u4e3a\", \"\\u5173\\u8054\", \"\\u699c\\u9996\", \"\\u798f\\u5e03\\u65af\", \"\\u6bcd\\u516c\\u53f8\", \"\\u7535\\u89c6\\u8282\\u76ee\", \"\\u6f5c\\u5728\", \"\\u7f8e\\u5143\", \"\\u4eb2\\u6635\", \"\\u4e00\\u6863\", \"\\u5bcc\\u8c6a\\u699c\", \"\\u5bb6\\u55bb\\u6237\\u6653\", \"\\u4e00\\u591c\", \"\\u8749\\u8054\", \"\\u4e00\\u5206\\u949f\", \"\\u5f62\\u5bb9\", \"\\u81ea\\u5236\", \"\\u5e74\\u8f7b\\u4eba\", \"\\u5bf9\\u9a6c\\u4e91\", \"\\u6dd8\\u5b9d\", \"\\u7f51\\u7edc\", \"\\u9a6c\\u4e91\\u53bb\", \"\\u8682\\u8681\", \"\\u91d1\\u670d\", \"\\u963f\\u91cc\\u5df4\\u5df4\", \"\\u9a6c\\u4e91\", \"\\u4e2d\\u56fd\", \"\\u5e73\\u53f0\", \"\\u516c\\u53f8\", \"\\u84b8\\u53d1\", \"\\u6b64\\u524d\", \"\\u5e02\\u503c\", \"\\u76d1\\u7763\\u7ba1\\u7406\", \"\\u8463\\u4e8b\\u5c40\", \"\\u4e3b\\u5e2d\", \"\\u5c55\\u5f00\", \"\\u9762\\u524d\", \"reuters\", \"\\u56db\\u90e8\\u59d4\", \"ipo\", \"\\u884c\\u4e1a\", \"\\u52df\\u80a1\", \"\\u53eb\\u505c\", \"\\u516c\\u4f17\", \"\\u4e2d\\u592e\"], \"Freq\": [13.0, 10.0, 15.0, 5.0, 3.0, 5.0, 19.0, 5.0, 9.0, 10.0, 6.0, 2.0, 4.0, 16.0, 19.0, 9.0, 2.0, 2.0, 2.0, 2.0, 2.0, 4.0, 1.0, 1.0, 6.0, 6.0, 5.0, 1.0, 1.0, 1.0, 5.500992014591162, 3.208913061267332, 3.208913061267332, 3.2089110787129207, 3.2089103346141448, 2.4448859798450946, 2.4448859798450946, 2.4448859798450946, 2.4448859798450946, 2.4448858650651166, 2.444885807675031, 2.4448848596394432, 2.4448825463158483, 1.6808588821428063, 1.6808588821428063, 1.6808588821428063, 1.6808588821428063, 1.6808588821428063, 1.6808588821428063, 1.6808588821428063, 1.6808588821428063, 1.6808588821428063, 1.6808588821428063, 1.6808588821428063, 1.6808587917273046, 1.6808587013116387, 1.6808587013116387, 1.6808587013116387, 1.6808587013116387, 1.6808587013116387, 1.6808587013116387, 1.6808587013116387, 4.737040364801911, 7.79326295419911, 6.265214458810456, 4.737124203089899, 10.848857854774463, 4.7371325332295156, 2.4448941028992297, 2.4448941028992297, 2.4448941028992297, 9.320826013135937, 4.736983503929853, 7.792357760011236, 5.50092588184374, 2.444980883985333, 2.444927197707215, 3.2089563527009557, 4.736819558803718, 5.500683161774501, 3.9727890504721546, 5.499876370381281, 3.2088962962670453, 3.2087557941200266, 3.2082602098769852, 4.296480880762361, 2.9105185967090845, 2.2175381763027513, 2.2175378504224548, 2.217537677379396, 2.217537677379396, 1.524557273050112, 1.524557273050112, 1.524557273050112, 1.524557273050112, 1.524557273050112, 1.524557273050112, 1.5245572624399952, 1.5245567278077452, 1.5245567278077452, 1.5245567278077452, 7.068547218090638, 2.9104951128852865, 1.524575161343462, 0.8315762791892523, 0.8315762791892523, 0.8315762791892523, 0.8315762791892523, 0.8315762791892523, 0.8315762791892523, 0.8315762791892523, 0.8315762791892523, 0.8315762791892523, 0.8315762791892523, 0.8315762791892523, 3.604175054205539, 0.8315762791892523, 0.8315762791892523, 0.8315762791892523, 0.8315762791892523, 0.8315762791892523, 0.8315762791892523, 0.8315762791892523, 0.8315762791892523, 0.8315762791892523, 0.8315762791892523, 0.8315762791892523, 0.8315762791892523, 0.8315762791892523, 0.8315762791892523, 0.8315762791892523, 0.8315762791892523, 0.8315762791892523, 3.603570820839819, 0.8315762791892523, 0.8315762791892523, 5.682783289324987, 0.8315762791892523, 0.8315762791892523, 0.8315762791892523, 0.8315762791892523, 2.9105896223769085, 0.8315762791892523, 2.910542256992895, 0.8315762791892523, 0.8315762791892523, 0.8315762791892523, 0.8315762791892523, 0.8315762791892523, 0.8315762791892523, 6.375974345846394, 2.217576825230001, 2.217569236277743, 0.8315762791892523, 0.8315762791892523, 1.524779202539366, 1.5245947548046501, 1.524582739408508, 5.682611417768502, 4.989648124274085, 3.6036804023722833, 4.989880034297857, 2.2175151379261893, 2.217595915094212, 2.217506128657311, 1.5247394295519423, 1.524733568348401, 1.5246854965606143, 1.5246821809487856, 1.524618187087368, 1.5246126245294818, 1.2036239053213431, 1.2036239053213431, 1.2036239053213431, 1.2036239053213431, 1.2036239053213431, 1.2036239053213431, 1.2036239053213431, 1.2036239053213431, 1.2036239053213431, 1.2036239053213431, 1.2036239053213431, 1.2036239053213431, 1.2036239053213431, 1.2036239053213431, 0.6565219783841353, 0.6565219783841353, 0.6565219783841353, 0.6565219783841353, 0.6565219783841353, 0.6565219783841353, 0.6565219783841353, 0.6565219783841353, 0.6565219783841353, 0.6565219783841353, 0.6565219783841353, 0.6565219783841353, 0.6565219783841353, 0.6565219783841353, 0.6565219783841353, 0.6565219783841353, 0.6565219783841353, 0.6565219783841353, 0.6565219783841353, 0.6565219783841353, 0.6565219783841353, 0.6565219783841353, 0.6565219783841353, 0.6565219783841353, 0.6565219783841353, 0.6565219783841353, 0.6565219783841353, 0.6565219783841353, 0.6565219783841353, 0.6565219783841353, 0.6565219783841353, 7.2219676363879906, 0.6565219783841353, 0.6565219783841353, 0.6565219783841353, 0.6565219783841353, 0.6565219783841353, 0.6565219783841353, 0.6565219783841353, 0.6565219783841353, 0.6565219783841353, 0.6565219783841353, 0.6565219783841353, 0.6565219783841353, 0.6565219783841353, 0.6565219783841353, 2.8450159170564087, 0.6565219783841353, 0.6565219783841353, 0.6565219783841353, 0.6565219783841353, 0.6565219783841353, 0.6565219783841353, 0.6565219783841353, 0.6565219783841353, 0.6565219783841353, 1.2036702051273704, 1.2036702051273704, 0.6565219783841353, 0.6565219783841353, 0.6565219783841353, 0.6565219783841353, 0.6565219783841353, 0.6565219783841353, 0.6565219783841353, 0.6565219783841353, 1.203651639604333, 2.84551696729592, 1.7508594753028979, 1.2039153501787554, 1.203704268889767, 1.2037085110696875, 1.2036787642836517, 0.6565219783841353, 1.2036886475043713, 1.2035589994573659, 0.6566649060024007, 0.656649361970715, 0.6566464982685548, 3.210771463503207, 1.6571722498776595, 1.6571722498776595, 1.1393058373977845, 1.1393058373977845, 1.1393058373977845, 1.1393058373977845, 1.1393058373977845, 1.1393058373977845, 1.1393058373977845, 1.1393058373977845, 1.1393058373977845, 1.1393058373977845, 1.1393058373977845, 1.657205823527951, 1.657205823527951, 1.6572390459590092, 0.6214393998529226, 0.6214393998529226, 0.6214393998529226, 0.6214393998529226, 0.6214393998529226, 0.6214393998529226, 0.6214393998529226, 0.6214393998529226, 0.6214393998529226, 0.6214393998529226, 0.6214393998529226, 0.6214393998529226, 0.6214393998529226, 1.1393231880706771, 1.1393231880706771, 0.6214393998529226, 0.6214393998529226, 0.6214393998529226, 0.6214393998529226, 0.6214393998529226, 0.6214393998529226, 0.6214393998529226, 0.6214393998529226, 0.6214393998529226, 0.6214393998529226, 0.6214393998529226, 0.6214393998529226, 0.6214393998529226, 0.6214393998529226, 0.6214393998529226, 0.6214393998529226, 0.6214393998529226, 0.6214393998529226, 0.6214393998529226, 0.6214393998529226, 0.6214393998529226, 0.6214393998529226, 0.6214393998529226, 3.2116431600956767, 0.6214393998529226, 0.6214393998529226, 0.6214393998529226, 1.6573420581145266, 3.211276842497224, 0.6214393998529226, 0.6214393998529226, 0.6214393998529226, 1.6573210627764527, 0.6214393998529226, 1.6575700547691035, 1.1393238684534104, 1.1393729233520904, 0.6214393998529226, 0.6214393998529226, 1.65726550987688, 1.1393780101241737, 1.1395784352261737, 1.139362210345688, 0.8036329647765885, 0.8036329647765885, 0.8036326674296371, 0.8036326674296371, 1.1689820369182335, 0.438345045500856, 0.438345045500856, 0.438345045500856, 0.438345045500856, 0.438345045500856, 0.438345045500856, 0.438345045500856, 0.438345045500856, 0.438345045500856, 0.438345045500856, 0.438345045500856, 0.438345045500856, 0.438345045500856, 0.438345045500856, 0.438345045500856, 0.438345045500856, 0.438345045500856, 0.438345045500856, 0.438345045500856, 0.438345045500856, 0.438345045500856, 0.438345045500856, 0.438345045500856, 0.438345045500856, 0.438345045500856, 0.438345045500856, 0.438345045500856, 0.438345045500856, 0.438345045500856, 0.438345045500856, 0.438345045500856, 0.803628253742587, 0.803628253742587, 0.438345045500856, 1.534356641750291, 1.1690123644961306, 1.8996979884474428, 1.534341514484336, 1.899531614971754, 0.8035072479039793, 0.80317661460913, 0.4383714810212785, 0.4383714810212785, 0.4383714810212785, 0.4383601333465616, 0.43835933844826425, 0.43835933844826425, 0.43835933844826425, 0.43835484184979406, 0.43835484184979406, 0.43835484184979406, 0.43835484184979406, 0.43835046038095116, 0.43835013252358923, 0.43835013252358923, 0.438347945647523, 0.4383472078485739], \"Total\": [13.0, 10.0, 15.0, 5.0, 3.0, 5.0, 19.0, 5.0, 9.0, 10.0, 6.0, 2.0, 4.0, 16.0, 19.0, 9.0, 2.0, 2.0, 2.0, 2.0, 2.0, 4.0, 1.0, 1.0, 6.0, 6.0, 5.0, 1.0, 1.0, 1.0, 5.925641307754383, 3.633560876105272, 3.633560876105272, 3.6335601996118503, 3.6335599451168834, 2.8695338048656662, 2.8695338048656662, 2.8695338048656662, 2.8695338048656662, 2.869533765158154, 2.8695337453043606, 2.8695334216487884, 2.8695326305865962, 2.1055067280602704, 2.1055067280602704, 2.1055067280602704, 2.1055067280602704, 2.1055067280602704, 2.1055067280602704, 2.1055067280602704, 2.1055067280602704, 2.1055067280602704, 2.1055067280602704, 2.1055067280602704, 2.1055066967815153, 2.105506665502697, 2.105506665502697, 2.105506665502697, 2.105506665502697, 2.105506665502697, 2.105506665502697, 2.105506665502697, 6.074045069720064, 11.186534859491283, 9.301648169536172, 6.92802693193185, 19.591005638113586, 7.6125763817135095, 3.4166379737851793, 3.4166379737851793, 3.4166379737851793, 19.763793555210437, 8.495776844150281, 16.722696356454662, 10.455535511071105, 3.562523115369766, 3.562517602121163, 5.362255747467923, 9.874022703016145, 13.037878286254687, 8.117786316985237, 15.082811526202963, 6.624917875190513, 10.563354959257715, 10.638379752000374, 4.735337992496362, 3.3493760734619937, 2.656395311862892, 2.656395221593652, 2.6563951750410335, 2.6563951750410335, 1.9634144150613522, 1.9634144150613522, 1.9634144150613522, 1.9634144150613522, 1.9634144150613522, 1.9634144150613522, 1.9634144135723384, 1.9634142683784992, 1.9634142683784992, 1.9634142683784992, 10.563354959257715, 4.385102939538827, 2.3287109305991436, 1.2704334960421249, 1.2704334960421249, 1.2704334960421249, 1.2704334960421249, 1.2704334960421249, 1.2704334960421249, 1.2704334960421249, 1.2704334960421249, 1.2704334960421249, 1.2704334960421249, 1.2704334960421249, 5.570340421089393, 1.2704334960421249, 1.2704334960421249, 1.2704334960421249, 1.2704334960421249, 1.2704334960421249, 1.2704334960421249, 1.2704334960421249, 1.2704334960421249, 1.2704334960421249, 1.2704334960421249, 1.2704334960421249, 1.2704334960421249, 1.2704334960421249, 1.2704334960421249, 1.2704334960421249, 1.2704334960421249, 1.2704334960421249, 6.334430777524452, 1.2704334960421249, 1.2704334960421249, 10.638379752000374, 1.2704334960421249, 1.2704334960421249, 1.2704334960421249, 1.2704334960421249, 5.209159964588939, 1.2704334960421249, 5.574391115908922, 1.2704334960421249, 1.2704334960421249, 1.2704334960421249, 1.2704334960421249, 1.2704334960421249, 1.2704334960421249, 15.082811526202963, 4.184445205352116, 4.184446014736861, 1.2704334960421249, 1.2704334960421249, 2.727417215760769, 2.7274373207192686, 2.7274386209328396, 19.763793555210437, 16.722696356454662, 10.455535511071105, 19.591005638113586, 6.068135248525367, 6.624917875190513, 8.117786316985237, 3.2744729337649465, 3.8215105317717555, 4.255481357549655, 4.2554817163365914, 5.320373969797006, 3.092718390514251, 1.6716565923099593, 1.6716565923099593, 1.6716565923099593, 1.6716565923099593, 1.6716565923099593, 1.6716565923099593, 1.6716565923099593, 1.6716565923099593, 1.6716565923099593, 1.6716565923099593, 1.6716565923099593, 1.6716565923099593, 1.6716565923099593, 1.6716565923099593, 1.1245547017936923, 1.1245547017936923, 1.1245547017936923, 1.1245547017936923, 1.1245547017936923, 1.1245547017936923, 1.1245547017936923, 1.1245547017936923, 1.1245547017936923, 1.1245547017936923, 1.1245547017936923, 1.1245547017936923, 1.1245547017936923, 1.1245547017936923, 1.1245547017936923, 1.1245547017936923, 1.1245547017936923, 1.1245547017936923, 1.1245547017936923, 1.1245547017936923, 1.1245547017936923, 1.1245547017936923, 1.1245547017936923, 1.1245547017936923, 1.1245547017936923, 1.1245547017936923, 1.1245547017936923, 1.1245547017936923, 1.1245547017936923, 1.1245547017936923, 1.1245547017936923, 13.037878286254687, 1.1245547017936923, 1.1245547017936923, 1.1245547017936923, 1.1245547017936923, 1.1245547017936923, 1.1245547017936923, 1.1245547017936923, 1.1245547017936923, 1.1245547017936923, 1.1245547017936923, 1.1245547017936923, 1.1245547017936923, 1.1245547017936923, 1.1245547017936923, 5.605009059957884, 1.1245547017936923, 1.1245547017936923, 1.1245547017936923, 1.1245547017936923, 1.1245547017936923, 1.1245547017936923, 1.1245547017936923, 1.1245547017936923, 1.1245547017936923, 2.364624961677264, 2.364624961677264, 1.1245547017936923, 1.1245547017936923, 1.1245547017936923, 1.1245547017936923, 1.1245547017936923, 1.1245547017936923, 1.1245547017936923, 1.1245547017936923, 3.19969954736732, 19.591005638113586, 8.117786316985237, 3.8215105317717555, 3.892667685670044, 3.963703765749005, 6.068135248525367, 1.1245547017936923, 15.082811526202963, 19.763793555210437, 3.0993055739822366, 3.2744729337649465, 2.5815052728952907, 3.6846512348812426, 2.1310520329240674, 2.1310520329240674, 1.6131856325372362, 1.6131856325372362, 1.6131856325372362, 1.6131856325372362, 1.6131856325372362, 1.6131856325372362, 1.6131856325372362, 1.6131856325372362, 1.6131856325372362, 1.6131856325372362, 1.6131856325372362, 2.678152021075269, 2.678152021075269, 2.895047150913527, 1.0953192329889327, 1.0953192329889327, 1.0953192329889327, 1.0953192329889327, 1.0953192329889327, 1.0953192329889327, 1.0953192329889327, 1.0953192329889327, 1.0953192329889327, 1.0953192329889327, 1.0953192329889327, 1.0953192329889327, 1.0953192329889327, 2.1602865365360184, 2.1602865365360184, 1.0953192329889327, 1.0953192329889327, 1.0953192329889327, 1.0953192329889327, 1.0953192329889327, 1.0953192329889327, 1.0953192329889327, 1.0953192329889327, 1.0953192329889327, 1.0953192329889327, 1.0953192329889327, 1.0953192329889327, 1.0953192329889327, 1.0953192329889327, 1.0953192329889327, 1.0953192329889327, 1.0953192329889327, 1.0953192329889327, 1.0953192329889327, 1.0953192329889327, 1.0953192329889327, 1.0953192329889327, 1.0953192329889327, 9.874022703016145, 1.0953192329889327, 1.0953192329889327, 1.0953192329889327, 4.899128334973676, 16.722696356454662, 1.0953192329889327, 1.0953192329889327, 1.0953192329889327, 6.068135248525367, 1.0953192329889327, 9.301648169536172, 4.385102939538827, 5.362255747467923, 1.0953192329889327, 1.0953192329889327, 19.763793555210437, 6.92802693193185, 8.495776844150281, 11.186534859491283, 1.3080287811733022, 1.3080287811733022, 1.3080289754285461, 1.3080289754285461, 2.3662424850499284, 0.9427409472395856, 0.9427409472395856, 0.9427409472395856, 0.9427409472395856, 0.9427409472395856, 0.9427409472395856, 0.9427409472395856, 0.9427409472395856, 0.9427409472395856, 0.9427409472395856, 0.9427409472395856, 0.9427409472395856, 0.9427409472395856, 0.9427409472395856, 0.9427409472395856, 0.9427409472395856, 0.9427409472395856, 0.9427409472395856, 0.9427409472395856, 0.9427409472395856, 0.9427409472395856, 0.9427409472395856, 0.9427409472395856, 0.9427409472395856, 0.9427409472395856, 0.9427409472395856, 0.9427409472395856, 0.9427409472395856, 0.9427409472395856, 0.9427409472395856, 0.9427409472395856, 1.8258972614035203, 1.8258972614035203, 0.9427409472395856, 5.574391115908922, 5.209159964588939, 15.082811526202963, 10.638379752000374, 19.763793555210437, 6.92802693193185, 19.591005638113586, 1.635697971021742, 1.635697971021742, 1.635697971021742, 2.4707780685621206, 1.7067522514224438, 1.7067522514224438, 1.7067522514224438, 1.6357129659169511, 1.6357129659169511, 1.6357129659169511, 1.6357129659169511, 1.7067617925789011, 3.092718390514251, 3.092718390514251, 2.182814296040073, 2.153577465102552], \"Category\": [\"Default\", \"Default\", \"Default\", \"Default\", \"Default\", \"Default\", \"Default\", \"Default\", \"Default\", \"Default\", \"Default\", \"Default\", \"Default\", \"Default\", \"Default\", \"Default\", \"Default\", \"Default\", \"Default\", \"Default\", \"Default\", \"Default\", \"Default\", \"Default\", \"Default\", \"Default\", \"Default\", \"Default\", \"Default\", \"Default\", \"Topic1\", \"Topic1\", \"Topic1\", \"Topic1\", \"Topic1\", \"Topic1\", \"Topic1\", \"Topic1\", \"Topic1\", \"Topic1\", \"Topic1\", \"Topic1\", \"Topic1\", \"Topic1\", \"Topic1\", \"Topic1\", \"Topic1\", \"Topic1\", \"Topic1\", \"Topic1\", \"Topic1\", \"Topic1\", \"Topic1\", \"Topic1\", \"Topic1\", \"Topic1\", \"Topic1\", \"Topic1\", \"Topic1\", \"Topic1\", \"Topic1\", \"Topic1\", \"Topic1\", \"Topic1\", \"Topic1\", \"Topic1\", \"Topic1\", \"Topic1\", \"Topic1\", \"Topic1\", \"Topic1\", \"Topic1\", \"Topic1\", \"Topic1\", \"Topic1\", \"Topic1\", \"Topic1\", \"Topic1\", \"Topic1\", \"Topic1\", \"Topic1\", \"Topic1\", \"Topic1\", \"Topic1\", \"Topic1\", \"Topic2\", \"Topic2\", \"Topic2\", \"Topic2\", \"Topic2\", \"Topic2\", \"Topic2\", \"Topic2\", \"Topic2\", \"Topic2\", \"Topic2\", \"Topic2\", \"Topic2\", \"Topic2\", \"Topic2\", \"Topic2\", \"Topic2\", \"Topic2\", \"Topic2\", \"Topic2\", \"Topic2\", \"Topic2\", \"Topic2\", \"Topic2\", \"Topic2\", \"Topic2\", \"Topic2\", \"Topic2\", \"Topic2\", \"Topic2\", \"Topic2\", \"Topic2\", \"Topic2\", \"Topic2\", \"Topic2\", \"Topic2\", \"Topic2\", \"Topic2\", \"Topic2\", \"Topic2\", \"Topic2\", \"Topic2\", \"Topic2\", \"Topic2\", \"Topic2\", \"Topic2\", \"Topic2\", \"Topic2\", \"Topic2\", \"Topic2\", \"Topic2\", \"Topic2\", \"Topic2\", \"Topic2\", \"Topic2\", \"Topic2\", \"Topic2\", \"Topic2\", \"Topic2\", \"Topic2\", \"Topic2\", \"Topic2\", \"Topic2\", \"Topic2\", \"Topic2\", \"Topic2\", \"Topic2\", \"Topic2\", \"Topic2\", \"Topic2\", \"Topic2\", \"Topic2\", \"Topic2\", \"Topic2\", \"Topic2\", \"Topic2\", \"Topic2\", \"Topic2\", \"Topic2\", \"Topic2\", \"Topic2\", \"Topic2\", \"Topic2\", \"Topic2\", \"Topic2\", \"Topic2\", \"Topic3\", \"Topic3\", \"Topic3\", \"Topic3\", \"Topic3\", \"Topic3\", \"Topic3\", \"Topic3\", \"Topic3\", \"Topic3\", \"Topic3\", \"Topic3\", \"Topic3\", \"Topic3\", \"Topic3\", \"Topic3\", \"Topic3\", \"Topic3\", \"Topic3\", \"Topic3\", \"Topic3\", \"Topic3\", \"Topic3\", \"Topic3\", \"Topic3\", \"Topic3\", \"Topic3\", \"Topic3\", \"Topic3\", \"Topic3\", \"Topic3\", \"Topic3\", \"Topic3\", \"Topic3\", \"Topic3\", \"Topic3\", \"Topic3\", \"Topic3\", \"Topic3\", \"Topic3\", \"Topic3\", \"Topic3\", \"Topic3\", \"Topic3\", \"Topic3\", \"Topic3\", \"Topic3\", \"Topic3\", \"Topic3\", \"Topic3\", \"Topic3\", \"Topic3\", \"Topic3\", \"Topic3\", \"Topic3\", \"Topic3\", \"Topic3\", \"Topic3\", \"Topic3\", \"Topic3\", \"Topic3\", \"Topic3\", \"Topic3\", \"Topic3\", \"Topic3\", \"Topic3\", \"Topic3\", \"Topic3\", \"Topic3\", \"Topic3\", \"Topic3\", \"Topic3\", \"Topic3\", \"Topic3\", \"Topic3\", \"Topic3\", \"Topic3\", \"Topic3\", \"Topic3\", \"Topic3\", \"Topic3\", \"Topic3\", \"Topic3\", \"Topic3\", \"Topic3\", \"Topic3\", \"Topic3\", \"Topic3\", \"Topic3\", \"Topic3\", \"Topic3\", \"Topic3\", \"Topic3\", \"Topic4\", \"Topic4\", \"Topic4\", \"Topic4\", \"Topic4\", \"Topic4\", \"Topic4\", \"Topic4\", \"Topic4\", \"Topic4\", \"Topic4\", \"Topic4\", \"Topic4\", \"Topic4\", \"Topic4\", \"Topic4\", \"Topic4\", \"Topic4\", \"Topic4\", \"Topic4\", \"Topic4\", \"Topic4\", \"Topic4\", \"Topic4\", \"Topic4\", \"Topic4\", \"Topic4\", \"Topic4\", \"Topic4\", \"Topic4\", \"Topic4\", \"Topic4\", \"Topic4\", \"Topic4\", \"Topic4\", \"Topic4\", \"Topic4\", \"Topic4\", \"Topic4\", \"Topic4\", \"Topic4\", \"Topic4\", \"Topic4\", \"Topic4\", \"Topic4\", \"Topic4\", \"Topic4\", \"Topic4\", \"Topic4\", \"Topic4\", \"Topic4\", \"Topic4\", \"Topic4\", \"Topic4\", \"Topic4\", \"Topic4\", \"Topic4\", \"Topic4\", \"Topic4\", \"Topic4\", \"Topic4\", \"Topic4\", \"Topic4\", \"Topic4\", \"Topic4\", \"Topic4\", \"Topic4\", \"Topic4\", \"Topic4\", \"Topic4\", \"Topic4\", \"Topic4\", \"Topic4\", \"Topic4\", \"Topic4\", \"Topic5\", \"Topic5\", \"Topic5\", \"Topic5\", \"Topic5\", \"Topic5\", \"Topic5\", \"Topic5\", \"Topic5\", \"Topic5\", \"Topic5\", \"Topic5\", \"Topic5\", \"Topic5\", \"Topic5\", \"Topic5\", \"Topic5\", \"Topic5\", \"Topic5\", \"Topic5\", \"Topic5\", \"Topic5\", \"Topic5\", \"Topic5\", \"Topic5\", \"Topic5\", \"Topic5\", \"Topic5\", \"Topic5\", \"Topic5\", \"Topic5\", \"Topic5\", \"Topic5\", \"Topic5\", \"Topic5\", \"Topic5\", \"Topic5\", \"Topic5\", \"Topic5\", \"Topic5\", \"Topic5\", \"Topic5\", \"Topic5\", \"Topic5\", \"Topic5\", \"Topic5\", \"Topic5\", \"Topic5\", \"Topic5\", \"Topic5\", \"Topic5\", \"Topic5\", \"Topic5\", \"Topic5\", \"Topic5\", \"Topic5\", \"Topic5\", \"Topic5\", \"Topic5\", \"Topic5\", \"Topic5\", \"Topic5\"], \"logprob\": [30.0, 29.0, 28.0, 27.0, 26.0, 25.0, 24.0, 23.0, 22.0, 21.0, 20.0, 19.0, 18.0, 17.0, 16.0, 15.0, 14.0, 13.0, 12.0, 11.0, 10.0, 9.0, 8.0, 7.0, 6.0, 5.0, 4.0, 3.0, 2.0, 1.0, -4.8004, -5.3394, -5.3394, -5.3394, -5.3394, -5.6113, -5.6113, -5.6113, -5.6113, -5.6113, -5.6113, -5.6113, -5.6113, -5.986, -5.986, -5.986, -5.986, -5.986, -5.986, -5.986, -5.986, -5.986, -5.986, -5.986, -5.986, -5.986, -5.986, -5.986, -5.986, -5.986, -5.986, -5.986, -4.9499, -4.452, -4.6703, -4.9499, -4.1212, -4.9499, -5.6113, -5.6113, -5.6113, -4.273, -4.9499, -4.4521, -4.8004, -5.6112, -5.6113, -5.3393, -4.9499, -4.8004, -5.1258, -4.8006, -5.3394, -5.3394, -5.3396, -4.6725, -5.062, -5.3339, -5.3339, -5.3339, -5.3339, -5.7086, -5.7086, -5.7086, -5.7086, -5.7086, -5.7086, -5.7086, -5.7086, -5.7086, -5.7086, -4.1747, -5.062, -5.7086, -6.3148, -6.3148, -6.3148, -6.3148, -6.3148, -6.3148, -6.3148, -6.3148, -6.3148, -6.3148, -6.3148, -4.8482, -6.3148, -6.3148, -6.3148, -6.3148, -6.3148, -6.3148, -6.3148, -6.3148, -6.3148, -6.3148, -6.3148, -6.3148, -6.3148, -6.3148, -6.3148, -6.3148, -6.3148, -4.8484, -6.3148, -6.3148, -4.3929, -6.3148, -6.3148, -6.3148, -6.3148, -5.062, -6.3148, -5.062, -6.3148, -6.3148, -6.3148, -6.3148, -6.3148, -6.3148, -4.2778, -5.3339, -5.3339, -6.3148, -6.3148, -5.7085, -5.7086, -5.7086, -4.3929, -4.523, -4.8484, -4.5229, -5.3339, -5.3339, -5.3339, -5.7085, -5.7085, -5.7085, -5.7085, -5.7086, -5.7086, -5.3101, -5.3101, -5.3101, -5.3101, -5.3101, -5.3101, -5.3101, -5.3101, -5.3101, -5.3101, -5.3101, -5.3101, -5.3101, -5.3101, -5.9162, -5.9162, -5.9162, -5.9162, -5.9162, -5.9162, -5.9162, -5.9162, -5.9162, -5.9162, -5.9162, -5.9162, -5.9162, -5.9162, -5.9162, -5.9162, -5.9162, -5.9162, -5.9162, -5.9162, -5.9162, -5.9162, -5.9162, -5.9162, -5.9162, -5.9162, -5.9162, -5.9162, -5.9162, -5.9162, -5.9162, -3.5183, -5.9162, -5.9162, -5.9162, -5.9162, -5.9162, -5.9162, -5.9162, -5.9162, -5.9162, -5.9162, -5.9162, -5.9162, -5.9162, -5.9162, -4.4498, -5.9162, -5.9162, -5.9162, -5.9162, -5.9162, -5.9162, -5.9162, -5.9162, -5.9162, -5.31, -5.31, -5.9162, -5.9162, -5.9162, -5.9162, -5.9162, -5.9162, -5.9162, -5.9162, -5.3101, -4.4497, -4.9353, -5.3098, -5.31, -5.31, -5.31, -5.9162, -5.31, -5.3101, -5.916, -5.916, -5.916, -4.2114, -4.8728, -4.8728, -5.2475, -5.2475, -5.2475, -5.2475, -5.2475, -5.2475, -5.2475, -5.2475, -5.2475, -5.2475, -5.2475, -4.8728, -4.8728, -4.8728, -5.8537, -5.8537, -5.8537, -5.8537, -5.8537, -5.8537, -5.8537, -5.8537, -5.8537, -5.8537, -5.8537, -5.8537, -5.8537, -5.2475, -5.2475, -5.8537, -5.8537, -5.8537, -5.8537, -5.8537, -5.8537, -5.8537, -5.8537, -5.8537, -5.8537, -5.8537, -5.8537, -5.8537, -5.8537, -5.8537, -5.8537, -5.8537, -5.8537, -5.8537, -5.8537, -5.8537, -5.8537, -5.8537, -4.2112, -5.8537, -5.8537, -5.8537, -4.8727, -4.2113, -5.8537, -5.8537, -5.8537, -4.8727, -5.8537, -4.8726, -5.2475, -5.2475, -5.8537, -5.8537, -4.8728, -5.2475, -5.2473, -5.2475, -4.9774, -4.9774, -4.9774, -4.9774, -4.6026, -5.5835, -5.5835, -5.5835, -5.5835, -5.5835, -5.5835, -5.5835, -5.5835, -5.5835, -5.5835, -5.5835, -5.5835, -5.5835, -5.5835, -5.5835, -5.5835, -5.5835, -5.5835, -5.5835, -5.5835, -5.5835, -5.5835, -5.5835, -5.5835, -5.5835, -5.5835, -5.5835, -5.5835, -5.5835, -5.5835, -5.5835, -4.9774, -4.9774, -5.5835, -4.3306, -4.6026, -4.1171, -4.3306, -4.1171, -4.9775, -4.9779, -5.5834, -5.5834, -5.5834, -5.5835, -5.5835, -5.5835, -5.5835, -5.5835, -5.5835, -5.5835, -5.5835, -5.5835, -5.5835, -5.5835, -5.5835, -5.5835], \"loglift\": [30.0, 29.0, 28.0, 27.0, 26.0, 25.0, 24.0, 23.0, 22.0, 21.0, 20.0, 19.0, 18.0, 17.0, 16.0, 15.0, 14.0, 13.0, 12.0, 11.0, 10.0, 9.0, 8.0, 7.0, 6.0, 5.0, 4.0, 3.0, 2.0, 1.0, 0.8617, 0.8118, 0.8118, 0.8118, 0.8118, 0.7759, 0.7759, 0.7759, 0.7759, 0.7759, 0.7759, 0.7759, 0.7759, 0.7108, 0.7108, 0.7108, 0.7108, 0.7108, 0.7108, 0.7108, 0.7108, 0.7108, 0.7108, 0.7108, 0.7108, 0.7108, 0.7108, 0.7108, 0.7108, 0.7108, 0.7108, 0.7108, 0.6874, 0.5746, 0.5409, 0.5559, 0.345, 0.4617, 0.6014, 0.6014, 0.6014, 0.1844, 0.3519, 0.1724, 0.2938, 0.5596, 0.5596, 0.4226, 0.2015, 0.073, 0.2214, -0.0728, 0.2111, -0.2555, -0.2627, 1.2137, 1.1706, 1.1304, 1.1304, 1.1304, 1.1304, 1.058, 1.058, 1.058, 1.058, 1.058, 1.058, 1.058, 1.058, 1.058, 1.058, 0.9093, 0.9011, 0.8874, 0.8872, 0.8872, 0.8872, 0.8872, 0.8872, 0.8872, 0.8872, 0.8872, 0.8872, 0.8872, 0.8872, 0.8756, 0.8872, 0.8872, 0.8872, 0.8872, 0.8872, 0.8872, 0.8872, 0.8872, 0.8872, 0.8872, 0.8872, 0.8872, 0.8872, 0.8872, 0.8872, 0.8872, 0.8872, 0.7469, 0.8872, 0.8872, 0.684, 0.8872, 0.8872, 0.8872, 0.8872, 0.7289, 0.8872, 0.6612, 0.8872, 0.8872, 0.8872, 0.8872, 0.8872, 0.8872, 0.45, 0.676, 0.676, 0.8872, 0.8872, 0.7295, 0.7294, 0.7294, 0.0646, 0.1016, 0.2458, -0.0567, 0.3043, 0.2166, 0.0133, 0.5467, 0.3922, 0.2846, 0.2846, 0.0612, 0.6037, 1.6174, 1.6174, 1.6174, 1.6174, 1.6174, 1.6174, 1.6174, 1.6174, 1.6174, 1.6174, 1.6174, 1.6174, 1.6174, 1.6174, 1.4077, 1.4077, 1.4077, 1.4077, 1.4077, 1.4077, 1.4077, 1.4077, 1.4077, 1.4077, 1.4077, 1.4077, 1.4077, 1.4077, 1.4077, 1.4077, 1.4077, 1.4077, 1.4077, 1.4077, 1.4077, 1.4077, 1.4077, 1.4077, 1.4077, 1.4077, 1.4077, 1.4077, 1.4077, 1.4077, 1.4077, 1.3552, 1.4077, 1.4077, 1.4077, 1.4077, 1.4077, 1.4077, 1.4077, 1.4077, 1.4077, 1.4077, 1.4077, 1.4077, 1.4077, 1.4077, 1.2678, 1.4077, 1.4077, 1.4077, 1.4077, 1.4077, 1.4077, 1.4077, 1.4077, 1.4077, 1.2707, 1.2707, 1.4077, 1.4077, 1.4077, 1.4077, 1.4077, 1.4077, 1.4077, 1.4077, 0.9682, 0.0166, 0.412, 0.7908, 0.7722, 0.7541, 0.3282, 1.4077, -0.5823, -0.8527, 0.3941, 0.3391, 0.5769, 1.9257, 1.8119, 1.8119, 1.7156, 1.7156, 1.7156, 1.7156, 1.7156, 1.7156, 1.7156, 1.7156, 1.7156, 1.7156, 1.7156, 1.5834, 1.5834, 1.5055, 1.4966, 1.4966, 1.4966, 1.4966, 1.4966, 1.4966, 1.4966, 1.4966, 1.4966, 1.4966, 1.4966, 1.4966, 1.4966, 1.4236, 1.4236, 1.4966, 1.4966, 1.4966, 1.4966, 1.4966, 1.4966, 1.4966, 1.4966, 1.4966, 1.4966, 1.4966, 1.4966, 1.4966, 1.4966, 1.4966, 1.4966, 1.4966, 1.4966, 1.4966, 1.4966, 1.4966, 1.4966, 1.4966, 0.9403, 1.4966, 1.4966, 1.4966, 0.9795, 0.4133, 1.4966, 1.4966, 1.4966, 0.7655, 1.4966, 0.3385, 0.7156, 0.5145, 1.4966, 1.4966, -0.4153, 0.2583, 0.0545, -0.2209, 2.1954, 2.1954, 2.1954, 2.1954, 1.9774, 1.9168, 1.9168, 1.9168, 1.9168, 1.9168, 1.9168, 1.9168, 1.9168, 1.9168, 1.9168, 1.9168, 1.9168, 1.9168, 1.9168, 1.9168, 1.9168, 1.9168, 1.9168, 1.9168, 1.9168, 1.9168, 1.9168, 1.9168, 1.9168, 1.9168, 1.9168, 1.9168, 1.9168, 1.9168, 1.9168, 1.9168, 1.8619, 1.8619, 1.9168, 1.3925, 1.1883, 0.6107, 0.7462, 0.3403, 0.5282, -0.5117, 1.3658, 1.3658, 1.3658, 0.9533, 1.3233, 1.3233, 1.3233, 1.3658, 1.3658, 1.3658, 1.3658, 1.3232, 0.7288, 0.7288, 1.0772, 1.0907]}, \"token.table\": {\"Topic\": [3, 1, 2, 3, 4, 2, 4, 1, 3, 1, 1, 3, 1, 2, 3, 2, 4, 5, 3, 3, 2, 3, 3, 2, 3, 1, 3, 3, 2, 3, 1, 2, 2, 3, 2, 3, 3, 1, 3, 2, 4, 4, 4, 2, 4, 3, 1, 4, 4, 4, 3, 4, 4, 4, 3, 4, 1, 2, 3, 4, 5, 2, 4, 4, 1, 3, 3, 2, 4, 1, 2, 3, 4, 1, 3, 1, 3, 4, 3, 2, 1, 2, 3, 4, 4, 2, 4, 1, 2, 2, 4, 2, 3, 4, 2, 3, 4, 3, 2, 3, 1, 2, 3, 5, 2, 3, 3, 3, 4, 2, 1, 2, 2, 2, 1, 1, 3, 1, 2, 3, 1, 2, 2, 1, 1, 2, 1, 2, 3, 4, 1, 3, 4, 4, 2, 1, 2, 1, 2, 4, 2, 2, 4, 1, 2, 2, 4, 1, 1, 2, 4, 1, 1, 2, 3, 1, 2, 3, 4, 2, 1, 3, 1, 5, 1, 2, 2, 1, 2, 5, 2, 1, 2, 4, 4, 1, 1, 2, 3, 4, 2, 1, 2, 3, 4, 1, 2, 1, 4, 5, 4, 1, 2, 2, 1, 3, 3, 2, 3, 3, 4, 3, 4, 1, 4, 4, 2, 4, 3, 2, 2, 4, 3, 3, 2, 4, 3, 4, 2, 2, 4, 3, 4, 4, 4, 1, 3, 4, 4, 4, 2, 3, 2, 3, 3, 3, 2, 1, 2, 2, 4, 3, 1, 3, 4, 4, 2, 2, 4, 2, 4, 2, 2, 3, 1, 3, 4, 3, 3, 1, 2, 2, 4, 4, 3, 1, 2, 3, 4, 5, 3, 3, 1, 2, 3, 3, 3, 1, 1, 2, 3, 2, 3, 4, 3, 1, 2, 3, 4, 1, 2, 3, 3, 4, 4, 4, 3, 1, 2, 3, 2, 3, 2, 2, 1, 2, 4, 1, 3, 4, 5, 1, 2, 3, 1, 2, 3, 4, 1, 3, 4, 1, 3, 3, 4, 4, 3, 1, 4, 4, 1, 2, 2, 1, 2, 5, 1, 2, 1, 2, 2, 1, 2, 3, 3, 3, 2, 1, 2, 1, 3, 3, 3, 1, 3, 1, 5, 2, 3, 1, 2, 3, 4, 3, 3, 3, 3, 3, 4, 3, 3, 3, 4, 3, 3, 2, 1, 2, 5, 1, 2, 2, 2, 1, 2, 3, 4, 1, 2, 3, 5, 2, 5, 2, 1, 3, 1, 2, 1, 2, 5, 1, 1], \"Freq\": [0.8892408687678558, 0.4082358867234586, 0.2041179433617293, 0.2041179433617293, 0.4082358867234586, 0.6841344527970201, 0.22804481759900672, 0.696977336278101, 0.5982089889755178, 0.9498901016775805, 0.5853707695534001, 0.29268538477670003, 0.4528358021213552, 0.3018905347475701, 0.15094526737378505, 0.7871328984282717, 0.912975842915838, 0.764509171658287, 0.5982089889755178, 0.5982089889755178, 0.7871328984282717, 0.8892408687678558, 0.8892408687678558, 1.018633730135676, 0.8892408687678558, 0.696977326633595, 0.8892408687678558, 0.8892408687678558, 0.7871328984282717, 0.8892408687678558, 0.8256363667190376, 0.6113542050694806, 1.018633730135676, 0.8892408687678558, 0.6113542050694806, 0.8892408687678558, 0.8892408687678558, 0.35682368727786284, 0.5352355309167943, 0.7871328984282717, 0.6198914618568657, 0.912975842915838, 0.9385035978008253, 1.0186336540355412, 0.912975842915838, 0.8892408687678558, 0.9498901299001554, 0.912975842915838, 0.912975842915838, 0.912975842915838, 0.8892408687678558, 0.912975842915838, 0.912975842915838, 0.912975842915838, 0.8892408687678558, 0.6198914618568657, 0.4553781628440093, 0.3035854418960062, 0.050597573649334364, 0.10119514729866873, 0.10119514729866873, 0.46434364038647696, 0.46434364038647696, 0.6198914618568657, 0.5859081182793687, 0.8892408687678558, 0.8892408687678558, 0.7871328984282717, 0.912975842915838, 0.7151454941574111, 0.17878637353935278, 0.08939318676967639, 0.08939318676967639, 0.696977326633595, 0.5982089889755178, 0.9498901016775805, 0.37339179857254834, 0.7467835971450967, 0.8892408687678558, 0.8956892072436433, 0.3226529221238162, 0.3226529221238162, 0.3226529221238162, 0.3226529221238162, 0.6198914618568657, 0.7871328984282717, 0.912975842915838, 0.47796061409572277, 0.47796061409572277, 0.7871328984282717, 0.8141883203490468, 0.7871328984282717, 0.5982089889755178, 0.912975842915838, 0.7871328984282717, 0.8892408687678558, 0.912975842915838, 0.8892408687678558, 0.45812417566356345, 0.45812417566356345, 0.5614821517176178, 0.2552191598716445, 0.1531314959229867, 0.0510438319743289, 1.0186336548080523, 0.8892408687678558, 0.8892408687678558, 0.8892408687678558, 0.912975842915838, 0.8447126702124365, 0.2840006808036686, 0.66266825520856, 0.7871328984282717, 0.7529000141779126, 0.9498901299001554, 0.9498901016775805, 0.5982089889755178, 0.9498901016775805, 0.7871328984282717, 0.8892408687678558, 0.3233401408505616, 0.6466802817011232, 0.7871328984282717, 0.9498901016775805, 0.3666443645422824, 0.7332887290845648, 0.5063792286473766, 0.10127584572947532, 0.10127584572947532, 0.303827537188426, 0.6969774197126555, 0.8892408687678558, 0.912975842915838, 0.912975842915838, 0.7871328984282717, 0.3233401408505616, 0.6466802817011232, 0.9498901299001554, 0.7871328984282717, 0.912975842915838, 0.752900027372285, 0.7528999885929737, 0.912975842915838, 0.47796052164524583, 0.47796052164524583, 0.6113542050694806, 0.6198914618568657, 0.9498901299001554, 0.6450469734654768, 0.1075078289109128, 0.2150156578218256, 0.9498901016775805, 0.5137864727992418, 0.2568932363996209, 0.2568932363996209, 0.5738586984518154, 0.38257246563454356, 0.09564311640863589, 0.09564311640863589, 0.752900027372285, 0.5045785755439945, 0.2522892877719973, 0.9498901299001554, 0.764509171658287, 0.46998204511656, 0.46998204511656, 0.7871328984282717, 0.9498901157888535, 1.0186336540355412, 0.7645090581211113, 0.7871328984282717, 0.3666445393275927, 0.7332890786551854, 0.6198914618568657, 0.6198914618568657, 0.5859081182793687, 0.4783917515139323, 0.2989948446962077, 0.05979896893924154, 0.1793969068177246, 0.6113598095223827, 0.5885276993171874, 0.23541107972687494, 0.11770553986343747, 0.11770553986343747, 0.46998208474155273, 0.46998208474155273, 0.7217062013651514, 0.14434124027303027, 0.14434124027303027, 0.6198914618568657, 0.9498901016775805, 0.7871328984282717, 0.7871328984282717, 0.4601975772642056, 0.5368971734749065, 0.5982089889755178, 0.7871328984282717, 0.8892408687678558, 0.8892408687678558, 0.912975842915838, 0.8892408687678558, 0.912975842915838, 0.3454175175297065, 0.690835035059413, 0.912975842915838, 0.7871328984282717, 0.912975842915838, 0.8892408687678558, 0.7871328984282717, 0.7871328984282717, 0.912975842915838, 0.8892408687678558, 0.8892408687678558, 0.7871328984282717, 0.912975842915838, 0.8892408687678558, 0.912975842915838, 0.7871328984282717, 1.018633730135676, 0.912975842915838, 0.8892408687678558, 0.912975842915838, 0.912975842915838, 0.912975842915838, 0.9498901016775805, 0.8892408687678558, 0.912975842915838, 0.912975842915838, 0.912975842915838, 0.7871328984282717, 0.8892408687678558, 0.7871328984282717, 0.8892408687678558, 0.8892408687678558, 0.5982089889755178, 0.7871328984282717, 0.36664724202126375, 0.7332944840425275, 0.7871328984282717, 0.912975842915838, 0.8892408687678558, 0.8256365782630557, 0.8892408687678558, 0.912975842915838, 0.6198914618568657, 0.7871328984282717, 0.7871328984282717, 0.912975842915838, 0.7871328984282717, 0.912975842915838, 0.7871328984282717, 0.7871328984282717, 0.8892408687678558, 0.6969776118528248, 0.8892408687678558, 0.6198914618568657, 0.8892408687678558, 0.8892408687678558, 0.5613998661149496, 0.2806999330574748, 0.6113598095223827, 0.912975842915838, 0.912975842915838, 0.8892408687678558, 0.696977326633595, 1.0186336540355412, 0.8892408687678558, 0.5476759405572063, 0.5476759405572063, 0.8892408687678558, 0.5982089889755178, 0.6969773411003631, 0.7871328984282717, 0.8892408687678558, 0.8892408687678558, 0.5982089889755178, 0.8094616126991561, 0.4927451701494786, 0.2463725850747393, 0.2463725850747393, 0.7871328984282717, 0.8892408687678558, 0.6198914618568657, 0.8892408687678558, 0.6568078596900139, 0.26272314387600554, 0.13136157193800277, 0.13136157193800277, 0.2616766306637321, 0.5233532613274642, 0.2616766306637321, 0.46290155638496105, 0.46290155638496105, 0.912975842915838, 0.912975842915838, 0.5982089889755178, 0.9498901016775805, 1.0186336540355412, 0.5982089889755178, 0.42290004385756164, 0.42290004385756164, 1.0186336540355412, 0.7871328984282717, 0.5594660421440382, 0.1864886807146794, 0.1864886807146794, 0.8256365204353765, 0.8892408687678558, 0.5476759405572063, 0.5476759405572063, 0.3053926602014123, 0.6107853204028246, 0.3053926602014123, 0.5614007349210507, 0.28070036746052535, 0.37339179857254834, 0.7467835971450967, 0.5853707695534001, 0.29268538477670003, 0.912975842915838, 0.9498901016775805, 0.8892408687678558, 0.46290155638496105, 0.46290155638496105, 0.912975842915838, 0.8892408687678558, 0.8256363667190376, 0.9385035978008253, 0.912975842915838, 0.5859081182793687, 0.7871328984282717, 0.6113598095223827, 0.17939178992052962, 0.5381753697615889, 0.35878357984105924, 0.5859048429300783, 0.7871328984282717, 0.9498901016775805, 0.8588442531531507, 0.7871328984282717, 0.38737089189767515, 0.38737089189767515, 0.38737089189767515, 0.5982089889755178, 0.8892408687678558, 1.0186336540355412, 0.9498901299001554, 0.7871328984282717, 0.6250586876650901, 0.31252934383254505, 0.8892408687678558, 0.8892408687678558, 0.8231746624544615, 0.1646349324908923, 0.696977326633595, 0.7645090581211113, 0.42290004385756164, 0.42290004385756164, 0.1647952721955254, 0.3295905443910508, 0.1647952721955254, 0.3295905443910508, 0.8892408687678558, 0.8892408687678558, 0.8892408687678558, 0.8892408687678558, 0.8892408687678558, 0.912975842915838, 0.8892408687678558, 0.8892408687678558, 0.8892408687678558, 0.912975842915838, 0.8892408687678558, 0.5982089889755178, 0.7871328984282717, 0.19196953190108287, 0.5759085957032486, 0.19196953190108287, 0.31573476295554637, 0.6314695259110927, 0.7871328984282717, 0.7871328984282717, 0.3759134247618139, 0.3759134247618139, 0.18795671238090694, 0.18795671238090694, 0.3315031810424492, 0.397803817250939, 0.06630063620848983, 0.13260127241697967, 0.42261095653470176, 0.42261095653470176, 0.6113542050694806, 0.5853707695534001, 0.29268538477670003, 0.3590444836060593, 0.7180889672121186, 0.28199782955067937, 0.5639956591013587, 0.18799855303378624, 1.012548632018666, 0.9498901299001554], \"Term\": [\"00700\", \"10\", \"10\", \"10\", \"10\", \"11\", \"11\", \"12\", \"1975\", \"1996\", \"1998\", \"1998\", \"2020\", \"2020\", \"2020\", \"31\", \"64k\", \"70\", \"90\", \"android\", \"business\", \"caldera\", \"consent\", \"daily\", \"doubt\", \"facebook\", \"fear\", \"fud\", \"heroes\", \"hk\", \"ie\", \"ipo\", \"journal\", \"msdos\", \"reuters\", \"sogo\", \"uncertainty\", \"windows\", \"windows\", \"\\u4e00\\u4e0b\\u5b50\", \"\\u4e00\\u4e2a\\u591a\\u6708\", \"\\u4e00\\u54e5\", \"\\u4e00\\u70b9\", \"\\u4e00\\u79cd\", \"\\u4e00\\u7ea7\", \"\\u4e07\\u80a1\", \"\\u4e0a\\u6d77\", \"\\u4e0a\\u7ebf\", \"\\u4e0a\\u9650\", \"\\u4e0b\\u573a\", \"\\u4e0d\\u53ef\\u52a8\\u6447\", \"\\u4e0d\\u60dc\\u4ee3\\u4ef7\", \"\\u4e0d\\u8bbe\", \"\\u4e0d\\u8d39\\u5439\\u7070\\u4e4b\\u529b\", \"\\u4e24\\u4efb\", \"\\u4e2a\\u4f53\\u6237\", \"\\u4e2d\\u56fd\", \"\\u4e2d\\u56fd\", \"\\u4e2d\\u56fd\", \"\\u4e2d\\u56fd\", \"\\u4e2d\\u56fd\", \"\\u4e2d\\u592e\", \"\\u4e2d\\u592e\", \"\\u4e2d\\u592e\\u653f\\u6cbb\\u5c40\", \"\\u4e3b\\u5e2d\", \"\\u4e3b\\u6d41\", \"\\u4e4b\\u5916\", \"\\u4e4b\\u9645\", \"\\u4e70\\u83dc\", \"\\u4e92\\u8054\\u7f51\", \"\\u4e92\\u8054\\u7f51\", \"\\u4e92\\u8054\\u7f51\", \"\\u4e92\\u8054\\u7f51\", \"\\u4e9a\\u9a6c\\u900a\", \"\\u4ea4\\u6613\", \"\\u4ea7\\u4e1a\", \"\\u4eac\\u4e1c\", \"\\u4eac\\u4e1c\", \"\\u4eba\\u58eb\", \"\\u4ebf\\u5143\", \"\\u4ebf\\u7f8e\\u5143\", \"\\u4ebf\\u7f8e\\u5143\", \"\\u4ebf\\u7f8e\\u5143\", \"\\u4ebf\\u7f8e\\u5143\", \"\\u4eca\\u65e5\", \"\\u4ee3\\u8868\", \"\\u4ef7\\u683c\", \"\\u4f01\\u4e1a\", \"\\u4f01\\u4e1a\", \"\\u4f01\\u4e1a\\u5bb6\", \"\\u4f18\\u9009\", \"\\u4f20\\u8a00\", \"\\u4f9d\\u7136\", \"\\u4fe1\\u53f7\", \"\\u4fe1\\u7528\", \"\\u4fee\\u6539\", \"\\u4fee\\u6cd5\", \"\\u501f\\u52a9\", \"\\u516c\\u4f17\", \"\\u516c\\u4f17\", \"\\u516c\\u53f8\", \"\\u516c\\u53f8\", \"\\u516c\\u53f8\", \"\\u516c\\u53f8\", \"\\u516c\\u5e73\", \"\\u5170\\u5fb7\", \"\\u5185\\u5730\", \"\\u51cf\\u6301\", \"\\u51e0\\u4e2a\", \"\\u521b\\u4e1a\", \"\\u521b\\u65b0\", \"\\u521b\\u65b0\", \"\\u521b\\u9020\", \"\\u5229\\u6da6\", \"\\u5229\\u7528\", \"\\u5236\\u5b9a\", \"\\u5236\\u9020\\u5546\", \"\\u524d\\u594f\", \"\\u529e\\u6cd5\", \"\\u52a8\\u529b\", \"\\u52df\\u80a1\", \"\\u52df\\u80a1\", \"\\u535a\\u6ee1\", \"\\u539a\\u79ef\\u8584\\u53d1\", \"\\u539f\\u56e0\", \"\\u539f\\u56e0\", \"\\u53cd\\u5784\\u65ad\", \"\\u53cd\\u5784\\u65ad\", \"\\u53cd\\u5784\\u65ad\", \"\\u53cd\\u5784\\u65ad\", \"\\u53cd\\u5784\\u65ad\\u6cd5\", \"\\u53cd\\u6258\\u62c9\\u65af\", \"\\u53d1\\u58f0\", \"\\u53d1\\u5e03\", \"\\u53e6\\u4e00\\u540d\", \"\\u53eb\\u505c\", \"\\u53eb\\u505c\", \"\\u53f2\\u664b\\u5ddd\", \"\\u53f2\\u9e64\\u51cc\", \"\\u540c\\u6708\", \"\\u540c\\u6bd4\", \"\\u540e\\u679c\", \"\\u541e\\u5e76\", \"\\u5546\\u4e1a\", \"\\u5546\\u4e1a\", \"\\u56db\\u90e8\\u59d4\", \"\\u56e2\\u8d2d\", \"\\u56fd\\u5185\", \"\\u56fd\\u5bb6\", \"\\u56fd\\u5bb6\", \"\\u56fd\\u5bb6\", \"\\u56fd\\u9645\", \"\\u5730\\u4f4d\", \"\\u5730\\u4f4d\", \"\\u5730\\u4f4d\", \"\\u5784\\u65ad\", \"\\u5784\\u65ad\", \"\\u5784\\u65ad\", \"\\u5784\\u65ad\", \"\\u589e\\u957f\", \"\\u5904\\u7f5a\", \"\\u5904\\u7f5a\", \"\\u5916\\u6ee9\", \"\\u591a\\u5929\", \"\\u591a\\u5e74\", \"\\u591a\\u5e74\", \"\\u5927\\u4f6c\", \"\\u5927\\u578b\", \"\\u5927\\u89c4\\u6a21\", \"\\u5929\\u732b\", \"\\u597d\\u5947\", \"\\u5b9e\\u9645\\u4e0a\", \"\\u5b9e\\u9645\\u4e0a\", \"\\u5c0f\\u644a\", \"\\u5c0f\\u8d29\", \"\\u5c55\\u5f00\", \"\\u5de8\\u5934\", \"\\u5de8\\u5934\", \"\\u5de8\\u5934\", \"\\u5de8\\u5934\", \"\\u5e02\\u503c\", \"\\u5e02\\u573a\", \"\\u5e02\\u573a\", \"\\u5e02\\u573a\", \"\\u5e02\\u573a\", \"\\u5e26\\u6765\", \"\\u5e26\\u6765\", \"\\u5e73\\u53f0\", \"\\u5e73\\u53f0\", \"\\u5e73\\u53f0\", \"\\u5f00\\u5e97\", \"\\u5f53\\u5934\\u4e00\\u68d2\", \"\\u5f53\\u94fa\", \"\\u5f88\\u5927\", \"\\u5fae\\u8f6f\", \"\\u5fae\\u8f6f\", \"\\u5fae\\u8f6f\\u516c\\u53f8\", \"\\u601d\\u60f3\", \"\\u603b\\u7edf\", \"\\u6050\\u60e7\", \"\\u60f3\\u7740\", \"\\u610f\\u5473\\u7740\", \"\\u611f\\u5230\", \"\\u6210\\u7acb\", \"\\u6210\\u7acb\", \"\\u6240\\u4f5c\\u6240\\u4e3a\", \"\\u6240\\u53d7\", \"\\u6269\\u5f20\", \"\\u6279\\u51c6\", \"\\u627c\\u6740\", \"\\u627f\\u62c5\", \"\\u6295\\u5165\", \"\\u6297\\u8861\", \"\\u6297\\u8bae\", \"\\u62a8\\u51fb\", \"\\u62db\\u67b6\\u4e4b\\u529b\", \"\\u62dc\\u8bbf\", \"\\u62ff\\u4e0b\", \"\\u62ff\\u5230\", \"\\u6301\\u6709\", \"\\u6307\\u5357\", \"\\u6307\\u63a7\", \"\\u6323\\u5feb\", \"\\u6324\\u57ae\", \"\\u6328\\u677f\\u5b50\", \"\\u6346\\u7ed1\", \"\\u6362\\u6210\", \"\\u63a5\\u5165\", \"\\u63a5\\u8fde\", \"\\u63a8\\u51fa\", \"\\u63a8\\u5230\", \"\\u63d0\\u8d77\", \"\\u63d0\\u9192\", \"\\u641c\\u72d7\", \"\\u641c\\u7d22\\u5f15\\u64ce\", \"\\u64cd\\u4f5c\\u7cfb\\u7edf\", \"\\u6536\\u5165\", \"\\u6536\\u8d2d\", \"\\u6536\\u8d2d\", \"\\u6539\\u6389\", \"\\u653e\\u5927\", \"\\u653e\\u884c\", \"\\u653f\\u5e9c\", \"\\u65b0\\u8fdb\", \"\\u65e0\\u5e8f\", \"\\u65e0\\u6cd5\\u65e0\\u5929\", \"\\u65e0\\u98ce\\u9669\", \"\\u65e5\\u665a\", \"\\u65f6\\u95f4\", \"\\u6708\\u521d\", \"\\u6708\\u5e95\", \"\\u6709\\u53f2\\u4ee5\\u6765\", \"\\u67d0\\u79cd\\u7a0b\\u5ea6\", \"\\u6807\\u5fd7\", \"\\u683c\\u5170\\u4ed5\", \"\\u684c\\u9762\", \"\\u6a59\\u5fc3\", \"\\u6b21\\u5e74\", \"\\u6b27\\u76df\", \"\\u6b63\\u5f0f\", \"\\u6b63\\u5f0f\", \"\\u6b64\\u524d\", \"\\u6ca6\\u4e3a\", \"\\u6cc4\\u6d2a\", \"\\u6ce2\\u52a8\", \"\\u6d4f\\u89c8\\u5668\", \"\\u6d88\\u5931\", \"\\u6d88\\u606f\", \"\\u6dd8\\u5b9d\", \"\\u6dd8\\u5b9d\", \"\\u6e05\\u4e00\\u8272\", \"\\u6e05\\u4ed3\", \"\\u6f14\\u8bb2\", \"\\u73b0\\u8eab\", \"\\u751f\\u4ea7\\u5546\", \"\\u751f\\u6001\", \"\\u7535\\u8111\", \"\\u76d1\\u7763\\u7ba1\\u7406\", \"\\u76d1\\u7ba1\", \"\\u76d1\\u7ba1\", \"\\u76d1\\u7ba1\", \"\\u76d1\\u7ba1\\u90e8\\u95e8\", \"\\u77e5\\u60c5\", \"\\u793e\\u533a\", \"\\u79c1\\u6709\\u5316\", \"\\u79d1\\u6280\", \"\\u79d1\\u6280\", \"\\u79d1\\u6280\", \"\\u79d1\\u6280\", \"\\u7ade\\u4e89\", \"\\u7ade\\u4e89\", \"\\u7ade\\u4e89\", \"\\u7b2c\\u4e00\", \"\\u7b2c\\u4e00\", \"\\u7b2c\\u4e00\\u540d\", \"\\u7b2c\\u4e00\\u6761\", \"\\u7b7e\\u8ba2\", \"\\u7ba1\\u5236\", \"\\u7ba1\\u7406\", \"\\u7c7b\\u4f3c\", \"\\u7cfb\\u7edf\", \"\\u7cfb\\u7edf\", \"\\u7cfb\\u7edf\\u6027\", \"\\u7e41\\u591a\", \"\\u7ecf\\u6d4e\", \"\\u7ecf\\u6d4e\", \"\\u7ecf\\u6d4e\", \"\\u7ed3\\u675f\", \"\\u7edf\\u8ba1\", \"\\u7f51\\u7edc\", \"\\u7f51\\u7edc\", \"\\u7f5a\\u5355\", \"\\u7f5a\\u5355\", \"\\u7f5a\\u5355\", \"\\u7f5a\\u6b3e\", \"\\u7f5a\\u6b3e\", \"\\u7f8e\\u56e2\", \"\\u7f8e\\u56e2\", \"\\u7f8e\\u56fd\\u53f8\\u6cd5\\u90e8\", \"\\u7f8e\\u56fd\\u53f8\\u6cd5\\u90e8\", \"\\u7f9e\\u803b\", \"\\u8054\\u5408\", \"\\u80a1\\u7968\", \"\\u817e\\u8baf\", \"\\u817e\\u8baf\", \"\\u81ea\\u884c\\u8f66\", \"\\u827e\\u4f26\", \"\\u82f9\\u679c\", \"\\u83dc\\u573a\", \"\\u83dc\\u5e02\\u573a\", \"\\u8463\\u4e8b\\u5c40\", \"\\u8499\\u7eb3\\u58eb\", \"\\u84b8\\u53d1\", \"\\u8682\\u8681\", \"\\u8682\\u8681\", \"\\u8682\\u8681\", \"\\u884c\\u4e1a\", \"\\u88c1\\u5224\", \"\\u89c4\\u5219\", \"\\u89c4\\u6a21\", \"\\u89c6\\u91ce\", \"\\u8ba1\\u5212\", \"\\u8ba1\\u5212\", \"\\u8ba1\\u5212\", \"\\u8ba4\\u53ef\", \"\\u8ba8\\u8bba\", \"\\u8bb2\\u8bdd\", \"\\u8bba\\u575b\", \"\\u8bc1\\u5238\\u5316\", \"\\u8bc9\\u8bbc\", \"\\u8bc9\\u8bbc\", \"\\u8bef\\u5bfc\", \"\\u8bf8\\u591a\", \"\\u8c03\\u67e5\", \"\\u8c03\\u67e5\", \"\\u8c37\\u6b4c\", \"\\u8d2d\\u7269\", \"\\u8d44\\u4ea7\", \"\\u8d44\\u4ea7\", \"\\u8d44\\u672c\", \"\\u8d44\\u672c\", \"\\u8d44\\u672c\", \"\\u8d44\\u672c\", \"\\u8d4b\\u4e88\", \"\\u8d54\\u507f\\u8d39\", \"\\u8d77\\u8bc9\", \"\\u8def\\u900f\\u793e\", \"\\u8df3\\u52a8\", \"\\u8dfa\\u811a\", \"\\u8f6f\\u4ef6\", \"\\u8fbe\\u5229\", \"\\u8fd0\\u884c\", \"\\u8fd9\\u4e00\\u4ed7\", \"\\u8fde\\u6865\", \"\\u9009\\u62e9\", \"\\u906d\\u9047\", \"\\u91d1\\u670d\", \"\\u91d1\\u670d\", \"\\u91d1\\u670d\", \"\\u91d1\\u878d\", \"\\u91d1\\u878d\", \"\\u91d1\\u878d\\u4f53\\u5236\", \"\\u91d1\\u8d44\", \"\\u963f\\u91cc\", \"\\u963f\\u91cc\", \"\\u963f\\u91cc\", \"\\u963f\\u91cc\", \"\\u963f\\u91cc\\u5df4\\u5df4\", \"\\u963f\\u91cc\\u5df4\\u5df4\", \"\\u963f\\u91cc\\u5df4\\u5df4\", \"\\u963f\\u91cc\\u5df4\\u5df4\", \"\\u96c6\\u56e2\", \"\\u96c6\\u56e2\", \"\\u9762\\u524d\", \"\\u9884\\u88c5\", \"\\u9884\\u88c5\", \"\\u98ce\\u9669\", \"\\u98ce\\u9669\", \"\\u9a6c\\u4e91\", \"\\u9a6c\\u4e91\", \"\\u9a6c\\u4e91\", \"\\u9ad8\\u79d1\\u6280\", \"\\u9ebb\\u70e6\"]}, \"R\": 30, \"lambda.step\": 0.01, \"plot.opts\": {\"xlab\": \"PC1\", \"ylab\": \"PC2\"}, \"topic.order\": [1, 5, 4, 2, 3]};\n",
       "\n",
       "function LDAvis_load_lib(url, callback){\n",
       "  var s = document.createElement('script');\n",
       "  s.src = url;\n",
       "  s.async = true;\n",
       "  s.onreadystatechange = s.onload = callback;\n",
       "  s.onerror = function(){console.warn(\"failed to load library \" + url);};\n",
       "  document.getElementsByTagName(\"head\")[0].appendChild(s);\n",
       "}\n",
       "\n",
       "if(typeof(LDAvis) !== \"undefined\"){\n",
       "   // already loaded: just create the visualization\n",
       "   !function(LDAvis){\n",
       "       new LDAvis(\"#\" + \"ldavis_el1190424369309267927997943113\", ldavis_el1190424369309267927997943113_data);\n",
       "   }(LDAvis);\n",
       "}else if(typeof define === \"function\" && define.amd){\n",
       "   // require.js is available: use it to load d3/LDAvis\n",
       "   require.config({paths: {d3: \"https://cdnjs.cloudflare.com/ajax/libs/d3/3.5.5/d3.min\"}});\n",
       "   require([\"d3\"], function(d3){\n",
       "      window.d3 = d3;\n",
       "      LDAvis_load_lib(\"https://cdn.rawgit.com/bmabey/pyLDAvis/files/ldavis.v1.0.0.js\", function(){\n",
       "        new LDAvis(\"#\" + \"ldavis_el1190424369309267927997943113\", ldavis_el1190424369309267927997943113_data);\n",
       "      });\n",
       "    });\n",
       "}else{\n",
       "    // require.js not available: dynamically load d3 & LDAvis\n",
       "    LDAvis_load_lib(\"https://cdnjs.cloudflare.com/ajax/libs/d3/3.5.5/d3.min.js\", function(){\n",
       "         LDAvis_load_lib(\"https://cdn.rawgit.com/bmabey/pyLDAvis/files/ldavis.v1.0.0.js\", function(){\n",
       "                 new LDAvis(\"#\" + \"ldavis_el1190424369309267927997943113\", ldavis_el1190424369309267927997943113_data);\n",
       "            })\n",
       "         });\n",
       "}\n",
       "</script>"
      ],
      "text/plain": [
       "<IPython.core.display.HTML object>"
      ]
     },
     "execution_count": 128,
     "metadata": {},
     "output_type": "execute_result"
    }
   ],
   "source": [
    "import pyLDAvis\n",
    "import pyLDAvis.gensim\n",
    "\n",
    "data = pyLDAvis.sklearn.prepare(lda_model, doc_term_matrix, vectorizer)\n",
    "#让可视化可以在notebook内显示\n",
    "pyLDAvis.display(data)"
   ]
  },
  {
   "cell_type": "code",
   "execution_count": null,
   "metadata": {},
   "outputs": [
    {
     "name": "stderr",
     "output_type": "stream",
     "text": [
      "E:\\Anaconda\\lib\\site-packages\\ipykernel\\ipkernel.py:287: DeprecationWarning: `should_run_async` will not call `transform_cell` automatically in the future. Please pass the result to `transformed_cell` argument and any exception that happen during thetransform in `preprocessing_exc_tuple` in IPython 7.17 and above.\n",
      "  and should_run_async(code)\n"
     ]
    },
    {
     "name": "stdout",
     "output_type": "stream",
     "text": [
      "\n",
      "Note: if you're in the IPython notebook, pyLDAvis.show() is not the best command\n",
      "      to use. Consider using pyLDAvis.display(), or pyLDAvis.enable_notebook().\n",
      "      See more information at http://pyLDAvis.github.io/quickstart.html .\n",
      "\n",
      "You must interrupt the kernel to end this command\n",
      "\n",
      "Serving to http://127.0.0.1:8889/    [Ctrl-C to exit]\n"
     ]
    },
    {
     "name": "stderr",
     "output_type": "stream",
     "text": [
      "127.0.0.1 - - [13/May/2021 18:54:54] \"GET / HTTP/1.1\" 200 -\n",
      "127.0.0.1 - - [13/May/2021 18:54:55] \"GET /LDAvis.css HTTP/1.1\" 200 -\n",
      "127.0.0.1 - - [13/May/2021 18:54:55] \"GET /d3.js HTTP/1.1\" 200 -\n",
      "127.0.0.1 - - [13/May/2021 18:54:55] \"GET /LDAvis.js HTTP/1.1\" 200 -\n",
      "127.0.0.1 - - [13/May/2021 18:54:55] code 404, message Not Found\n",
      "127.0.0.1 - - [13/May/2021 18:54:55] \"GET /favicon.ico HTTP/1.1\" 404 -\n"
     ]
    }
   ],
   "source": [
    "pyLDAvis.show(data)"
   ]
  },
  {
   "cell_type": "code",
   "execution_count": null,
   "metadata": {},
   "outputs": [],
   "source": []
  }
 ],
 "metadata": {
  "kernelspec": {
   "display_name": "Python 3",
   "language": "python",
   "name": "python3"
  },
  "language_info": {
   "codemirror_mode": {
    "name": "ipython",
    "version": 3
   },
   "file_extension": ".py",
   "mimetype": "text/x-python",
   "name": "python",
   "nbconvert_exporter": "python",
   "pygments_lexer": "ipython3",
   "version": "3.7.6"
  }
 },
 "nbformat": 4,
 "nbformat_minor": 4
}
